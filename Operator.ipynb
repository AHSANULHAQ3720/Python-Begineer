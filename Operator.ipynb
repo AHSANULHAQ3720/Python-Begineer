{
 "cells": [
  {
   "cell_type": "code",
   "execution_count": 2,
   "metadata": {},
   "outputs": [
    {
     "name": "stdout",
     "output_type": "stream",
     "text": [
      "14\n",
      "6\n",
      "2.5\n",
      "10000\n",
      "2\n",
      "2\n"
     ]
    }
   ],
   "source": [
    "# Arithmatic Operato\n",
    "x = 10\n",
    "y = 4\n",
    "print(x + y) # Addition\n",
    "print(x - y) # Subtraction\n",
    "print(x / y) # divide\n",
    "print(x ** y) # power of\n",
    "print(x % y) # reminder\n",
    "print(x//y) # Whole number "
   ]
  },
  {
   "cell_type": "code",
   "execution_count": 9,
   "metadata": {},
   "outputs": [
    {
     "name": "stdout",
     "output_type": "stream",
     "text": [
      "10\n",
      "30\n"
     ]
    }
   ],
   "source": [
    "# Assignment Operator\n",
    "x = 7\n",
    "x += 3 # Add Increment Operator\n",
    "print(x)  # Print x\n",
    "x*=3\n",
    "print(x)"
   ]
  },
  {
   "cell_type": "code",
   "execution_count": 1,
   "metadata": {},
   "outputs": [
    {
     "data": {
      "text/plain": [
       "1"
      ]
     },
     "execution_count": 1,
     "metadata": {},
     "output_type": "execute_result"
    }
   ],
   "source": [
    "# BITWISE OPERATOR\n",
    "3 & 5"
   ]
  },
  {
   "cell_type": "code",
   "execution_count": 2,
   "metadata": {},
   "outputs": [
    {
     "data": {
      "text/plain": [
       "0"
      ]
     },
     "execution_count": 2,
     "metadata": {},
     "output_type": "execute_result"
    }
   ],
   "source": [
    "2 & 4"
   ]
  },
  {
   "cell_type": "code",
   "execution_count": 3,
   "metadata": {},
   "outputs": [
    {
     "data": {
      "text/plain": [
       "15"
      ]
     },
     "execution_count": 3,
     "metadata": {},
     "output_type": "execute_result"
    }
   ],
   "source": [
    "10 | 5"
   ]
  },
  {
   "cell_type": "code",
   "execution_count": 4,
   "metadata": {},
   "outputs": [
    {
     "data": {
      "text/plain": [
       "12"
      ]
     },
     "execution_count": 4,
     "metadata": {},
     "output_type": "execute_result"
    }
   ],
   "source": [
    "4 | 8"
   ]
  },
  {
   "cell_type": "code",
   "execution_count": 16,
   "metadata": {},
   "outputs": [
    {
     "name": "stdout",
     "output_type": "stream",
     "text": [
      "0b1\n",
      "0b11\n",
      "1\n",
      "3\n",
      "2\n",
      "8\n",
      "0\n"
     ]
    }
   ],
   "source": [
    "x = 5\n",
    "x &= 3\n",
    "print(bin(x))\n",
    "print(bin(3))\n",
    "print(x)\n",
    "print(x | 3)\n",
    "print(x ^ 3)\n",
    "print(x << 3)\n",
    "print(x >> 3)"
   ]
  },
  {
   "cell_type": "code",
   "execution_count": null,
   "metadata": {},
   "outputs": [],
   "source": [
    "# Type of Operator\n",
    "# Arithmatic Operator : =,-,*,/,**,//,%%\n",
    "# Assignment Operator : =,+=,-=,/=,*=,**=,//=,&=,/=,^=,<<=,>>=\n",
    "# Comparison Operator : ==,!=,<,>,<=,>=\n",
    "# Identity Operator : is , is not\n",
    "# Logical Operator : and  , or ,not\n",
    "# Membership Operator : in , not in \n",
    "# BITWISE OPERATOR : & , | , ~ , ^ , << , >>"
   ]
  }
 ],
 "metadata": {
  "kernelspec": {
   "display_name": "Python 3",
   "language": "python",
   "name": "python3"
  },
  "language_info": {
   "codemirror_mode": {
    "name": "ipython",
    "version": 3
   },
   "file_extension": ".py",
   "mimetype": "text/x-python",
   "name": "python",
   "nbconvert_exporter": "python",
   "pygments_lexer": "ipython3",
   "version": "3.11.3"
  },
  "orig_nbformat": 4
 },
 "nbformat": 4,
 "nbformat_minor": 2
}
