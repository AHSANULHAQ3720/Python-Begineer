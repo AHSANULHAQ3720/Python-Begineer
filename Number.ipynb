{
 "cells": [
  {
   "cell_type": "code",
   "execution_count": 11,
   "metadata": {},
   "outputs": [
    {
     "name": "stdout",
     "output_type": "stream",
     "text": [
      "(5+0j)\n",
      "0j\n",
      "(3+6j)\n",
      "6.0\n",
      "3.0\n"
     ]
    }
   ],
   "source": [
    "# Find Number Data Type Operation along with type conversion\n",
    "a = 5\n",
    "type(a)  # Find the Type of a\n",
    "type(float(a)) # Find the Float data Type \n",
    "print(complex(a.real))\n",
    "print(complex(a.imag))\n",
    "print(complex(3,6))  \n",
    "print(complex(3,6).real)  # Find Complex Real Part\n",
    "print(complex(3,6).imag)  # Find Complex Imaginary Part\n"
   ]
  },
  {
   "cell_type": "code",
   "execution_count": 15,
   "metadata": {},
   "outputs": [
    {
     "name": "stdout",
     "output_type": "stream",
     "text": [
      "2/3\n"
     ]
    }
   ],
   "source": [
    "from fractions import Fraction as f\n",
    "print(f(1,3)+f(1,3))"
   ]
  },
  {
   "cell_type": "code",
   "execution_count": 16,
   "metadata": {},
   "outputs": [
    {
     "name": "stdout",
     "output_type": "stream",
     "text": [
      "5.98\n"
     ]
    }
   ],
   "source": [
    "x = -5.98\n",
    "print(abs(x))"
   ]
  },
  {
   "cell_type": "code",
   "execution_count": 30,
   "metadata": {},
   "outputs": [
    {
     "data": {
      "text/plain": [
       "0.8509035245341184"
      ]
     },
     "execution_count": 30,
     "metadata": {},
     "output_type": "execute_result"
    }
   ],
   "source": [
    "# Math Library\n",
    "import math\n",
    "math.pi  # Finding the PI Value\n",
    "math.e  # Exponential Value\n",
    "math.factorial(5)  #Find Factorial of Value\n",
    "math.sqrt(12)  # Find SQRT of number\n",
    "max(1,5,7,6,1,5,7,63,4)\n",
    "min(0.1,5,7,6,1,5,7,63,4)\n",
    "math.pow(2,5)\n",
    "math.floor(43.5)  # Find lowest integer value\n",
    "math.ceil(43.5) # Find highest integer value\n",
    "math.sin(45)"
   ]
  },
  {
   "cell_type": "code",
   "execution_count": 40,
   "metadata": {},
   "outputs": [
    {
     "name": "stdout",
     "output_type": "stream",
     "text": [
      "12 14 13 10 10 "
     ]
    },
    {
     "data": {
      "text/plain": [
       "'p'"
      ]
     },
     "execution_count": 40,
     "metadata": {},
     "output_type": "execute_result"
    }
   ],
   "source": [
    "import random\n",
    "for i in range(0,5):\n",
    "    vals = random.randrange(10,15)\n",
    "    print(vals,end=\" \")\n",
    "\n",
    "#Find Random choice within string\n",
    "strp = ['a','b','z','n','q','r','p','m']\n",
    "random.choice(strp)    "
   ]
  },
  {
   "cell_type": "code",
   "execution_count": null,
   "metadata": {},
   "outputs": [],
   "source": []
  },
  {
   "cell_type": "code",
   "execution_count": null,
   "metadata": {},
   "outputs": [],
   "source": []
  }
 ],
 "metadata": {
  "kernelspec": {
   "display_name": "Python 3",
   "language": "python",
   "name": "python3"
  },
  "language_info": {
   "codemirror_mode": {
    "name": "ipython",
    "version": 3
   },
   "file_extension": ".py",
   "mimetype": "text/x-python",
   "name": "python",
   "nbconvert_exporter": "python",
   "pygments_lexer": "ipython3",
   "version": "3.11.3"
  },
  "orig_nbformat": 4
 },
 "nbformat": 4,
 "nbformat_minor": 2
}
