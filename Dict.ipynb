{
 "cells": [
  {
   "cell_type": "code",
   "execution_count": 33,
   "id": "2a992815",
   "metadata": {},
   "outputs": [
    {
     "data": {
      "text/plain": [
       "{1: 'tiger', 2: 'rat', 3: 'mouse', 4: 'lion'}"
      ]
     },
     "execution_count": 33,
     "metadata": {},
     "output_type": "execute_result"
    }
   ],
   "source": [
    "# Dictionary Initialization\n",
    "vals = {1:\"tiger\",2:\"rat\",3:\"mouse\",4:\"lion\"}\n",
    "vals"
   ]
  },
  {
   "cell_type": "code",
   "execution_count": 34,
   "id": "4e9cc98f",
   "metadata": {},
   "outputs": [
    {
     "name": "stdout",
     "output_type": "stream",
     "text": [
      "tiger\n",
      "[1, 2, 3, 4]\n"
     ]
    }
   ],
   "source": [
    "# Dictionary Method\n",
    "print(vals.get(1))\n",
    "print(sorted(vals))"
   ]
  },
  {
   "cell_type": "code",
   "execution_count": 35,
   "id": "4a4509ba",
   "metadata": {},
   "outputs": [
    {
     "data": {
      "text/plain": [
       "{1: 'tiger', 2: 'rat', 3: 'mouse', 4: 'lion', 5: 'kiwi'}"
      ]
     },
     "execution_count": 35,
     "metadata": {},
     "output_type": "execute_result"
    }
   ],
   "source": [
    "vals.update({5:\"kiwi\"})\n",
    "vals"
   ]
  },
  {
   "cell_type": "code",
   "execution_count": 36,
   "id": "b69d886f",
   "metadata": {},
   "outputs": [
    {
     "data": {
      "text/plain": [
       "dict_keys([1, 2, 3, 4, 5])"
      ]
     },
     "execution_count": 36,
     "metadata": {},
     "output_type": "execute_result"
    }
   ],
   "source": [
    "# Print Dictionary Key\n",
    "vals.keys()"
   ]
  },
  {
   "cell_type": "code",
   "execution_count": null,
   "id": "5d93ef49",
   "metadata": {},
   "outputs": [
    {
     "data": {
      "text/plain": [
       "dict_values(['tiger', 'rat', 'mouse', 'lion'])"
      ]
     },
     "execution_count": 7,
     "metadata": {},
     "output_type": "execute_result"
    }
   ],
   "source": [
    "# Find Values with method\n",
    "vals.values()"
   ]
  },
  {
   "cell_type": "code",
   "execution_count": 37,
   "id": "b39e2504",
   "metadata": {},
   "outputs": [
    {
     "data": {
      "text/plain": [
       "'tiger'"
      ]
     },
     "execution_count": 37,
     "metadata": {},
     "output_type": "execute_result"
    }
   ],
   "source": [
    "# Find Element by Key\n",
    "vals[1]"
   ]
  },
  {
   "cell_type": "code",
   "execution_count": 38,
   "id": "5d256d22",
   "metadata": {},
   "outputs": [
    {
     "data": {
      "text/plain": [
       "(5, 'kiwi')"
      ]
     },
     "execution_count": 38,
     "metadata": {},
     "output_type": "execute_result"
    }
   ],
   "source": [
    "vals.popitem()"
   ]
  },
  {
   "cell_type": "code",
   "execution_count": 39,
   "id": "c00cccb1",
   "metadata": {},
   "outputs": [
    {
     "data": {
      "text/plain": [
       "{1: 'tiger', 2: 'rat', 3: 'mouse', 4: 'lion'}"
      ]
     },
     "execution_count": 39,
     "metadata": {},
     "output_type": "execute_result"
    }
   ],
   "source": [
    "vals"
   ]
  },
  {
   "cell_type": "code",
   "execution_count": 40,
   "id": "2e91458b",
   "metadata": {},
   "outputs": [
    {
     "data": {
      "text/plain": [
       "'tiger'"
      ]
     },
     "execution_count": 40,
     "metadata": {},
     "output_type": "execute_result"
    }
   ],
   "source": [
    "vals.pop(1)"
   ]
  },
  {
   "cell_type": "code",
   "execution_count": 41,
   "id": "174e84e6",
   "metadata": {},
   "outputs": [
    {
     "data": {
      "text/plain": [
       "{2: 'rat', 3: 'mouse', 4: 'lion'}"
      ]
     },
     "execution_count": 41,
     "metadata": {},
     "output_type": "execute_result"
    }
   ],
   "source": [
    "vals"
   ]
  },
  {
   "cell_type": "code",
   "execution_count": 42,
   "id": "f3f35a5c",
   "metadata": {},
   "outputs": [
    {
     "name": "stdout",
     "output_type": "stream",
     "text": [
      "rat\n",
      "mouse\n",
      "lion\n"
     ]
    }
   ],
   "source": [
    "# print dictionary values\n",
    "for x in vals:\n",
    "    print(vals[x])"
   ]
  },
  {
   "cell_type": "code",
   "execution_count": 44,
   "id": "72d17aae",
   "metadata": {},
   "outputs": [
    {
     "name": "stdout",
     "output_type": "stream",
     "text": [
      "2 rat\n",
      "3 mouse\n",
      "4 lion\n"
     ]
    }
   ],
   "source": [
    "for x, y in vals.items():\n",
    "    print(x,y)"
   ]
  },
  {
   "cell_type": "code",
   "execution_count": 45,
   "id": "a3078d8f",
   "metadata": {},
   "outputs": [
    {
     "data": {
      "text/plain": [
       "{2: 'rat', 3: 'mouse', 4: 'lion'}"
      ]
     },
     "execution_count": 45,
     "metadata": {},
     "output_type": "execute_result"
    }
   ],
   "source": [
    "# Copy the whole dictionary to new dictionary\n",
    "vals2 = vals.copy()\n",
    "vals2"
   ]
  },
  {
   "cell_type": "code",
   "execution_count": 46,
   "id": "77917c01",
   "metadata": {},
   "outputs": [],
   "source": [
    "# delete dictionary \n",
    "vals.clear()"
   ]
  },
  {
   "cell_type": "code",
   "execution_count": null,
   "id": "97b77384",
   "metadata": {},
   "outputs": [],
   "source": []
  }
 ],
 "metadata": {
  "kernelspec": {
   "display_name": "Python 3 (ipykernel)",
   "language": "python",
   "name": "python3"
  },
  "language_info": {
   "codemirror_mode": {
    "name": "ipython",
    "version": 3
   },
   "file_extension": ".py",
   "mimetype": "text/x-python",
   "name": "python",
   "nbconvert_exporter": "python",
   "pygments_lexer": "ipython3",
   "version": "3.11.3"
  }
 },
 "nbformat": 4,
 "nbformat_minor": 5
}
