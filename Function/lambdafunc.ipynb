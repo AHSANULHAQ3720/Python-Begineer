{
 "cells": [
  {
   "cell_type": "code",
   "execution_count": null,
   "metadata": {},
   "outputs": [],
   "source": [
    "def add (x,y):\n",
    "    return x + y\n",
    "\n",
    "add(2,5)"
   ]
  },
  {
   "cell_type": "code",
   "execution_count": null,
   "metadata": {},
   "outputs": [],
   "source": [
    "#  SAME ADDITION FUNCTION USING LAMBDA\n",
    "add =  lambda a,b : a + b\n",
    "add(5,9)"
   ]
  },
  {
   "cell_type": "code",
   "execution_count": null,
   "metadata": {},
   "outputs": [],
   "source": [
    "# Lambda Function call without any parameter\n",
    "(lambda a , b : a * b)(15,30)"
   ]
  },
  {
   "cell_type": "code",
   "execution_count": null,
   "metadata": {},
   "outputs": [],
   "source": [
    "# USAGE OF LAMBDA FUNCTION WITHOUT ANY PARAMETER ORDERING\n",
    "product = lambda x,y,z : x * y *z\n",
    "print(product(z=2,x=4,y=1))"
   ]
  },
  {
   "cell_type": "code",
   "execution_count": null,
   "metadata": {},
   "outputs": [],
   "source": [
    "# Parameter Assignment before the call with one parameter value not defined\n",
    "add = lambda x,y=15,z=3 :  x + y + z\n",
    "print(add(25))"
   ]
  },
  {
   "cell_type": "code",
   "execution_count": null,
   "metadata": {},
   "outputs": [],
   "source": [
    "# Parameter Assignment before the call with all  parameter value  defined\n",
    "add = lambda x=35,y=15,z=3 :  x + y + z\n",
    "print(add())"
   ]
  },
  {
   "cell_type": "code",
   "execution_count": null,
   "metadata": {},
   "outputs": [],
   "source": [
    "# USING args parameter without defining any variable in lambda\n",
    "addition = lambda * args : sum(args)\n",
    "addition(1,2,3,4,5,6)"
   ]
  },
  {
   "cell_type": "code",
   "execution_count": null,
   "metadata": {},
   "outputs": [],
   "source": [
    "# Multiple Function Used in lambda\n",
    "higher_ord_fun = lambda x,fun : x + fun(x)\n",
    "print(higher_ord_fun(20,lambda x : x *x))"
   ]
  },
  {
   "cell_type": "code",
   "execution_count": null,
   "metadata": {},
   "outputs": [],
   "source": [
    "# Lambda with standlone operator\n",
    "(lambda x: (x % 2 ==0 and 'even' or 'odd')) (50)"
   ]
  },
  {
   "cell_type": "code",
   "execution_count": null,
   "metadata": {},
   "outputs": [],
   "source": [
    "# USING In Operator inside lambda\n",
    "phrase = 'Welcome to Python'\n",
    "sub_string = lambda string : string in  phrase\n",
    "print(sub_string('Welcome'))  # Check Welcome String in Phrase It show True\n",
    "print(sub_string('Welcomes'))  # Check Welcomes String in Phrase It show False\n",
    "print(sub_string('python'))  # Check python String in Phrase It show False because Python is case senstive"
   ]
  },
  {
   "cell_type": "code",
   "execution_count": null,
   "metadata": {},
   "outputs": [],
   "source": [
    "# Filter the List and other sequence through lambda and filter function\n",
    "num = [12,14,35,45,56,78,5,150]\n",
    "greater = list(filter(lambda num : num > 30,num))\n",
    "print(greater)"
   ]
  },
  {
   "cell_type": "code",
   "execution_count": null,
   "metadata": {},
   "outputs": [],
   "source": [
    "# Filter the List and other sequence through lambda and filter function and display mid range\n",
    "num = [12,14,35,45,56,78,5,150]\n",
    "betweenvalue = list(filter(lambda num : num > 30 and num < 50,num))\n",
    "print(betweenvalue)"
   ]
  },
  {
   "cell_type": "code",
   "execution_count": null,
   "metadata": {},
   "outputs": [],
   "source": [
    "# Filter the List and other sequence through lambda and filter lesser value\n",
    "num = [12,14,35,45,56,78,5,150]\n",
    "lessthan = list(filter(lambda num :  num < 50,num))\n",
    "print(lessthan)"
   ]
  },
  {
   "cell_type": "code",
   "execution_count": null,
   "metadata": {},
   "outputs": [],
   "source": [
    "# Find Divisible Number\n",
    "list1 = [4,9,45,12,35,36,40,48,56,17]\n",
    "divide = list(filter(lambda x : x % 4 == 0,list1))\n",
    "print(divide)"
   ]
  },
  {
   "cell_type": "code",
   "execution_count": null,
   "metadata": {},
   "outputs": [],
   "source": [
    "# Muliple List Item with his own\n",
    "list2 = [2,5,7,9,11,13,15,18,21,24,28,30]\n",
    "product = list(map(lambda x: x*x , list2))\n",
    "product"
   ]
  },
  {
   "cell_type": "code",
   "execution_count": null,
   "metadata": {},
   "outputs": [],
   "source": [
    "# Generate a Cube\n",
    "list2 = [2,5,7,9,11,13,15,18,21,24,28,30]\n",
    "cube = list(map(lambda x: pow(x,3) , list2))\n",
    "cube"
   ]
  },
  {
   "cell_type": "code",
   "execution_count": null,
   "metadata": {},
   "outputs": [],
   "source": [
    "# FIND THE SUM with help of reduce function\n",
    "list3 = [2,4,5,6,7,8,9,25]\n",
    "from functools import reduce\n",
    "sums = reduce((lambda x,y : x + y),list3)\n",
    "print(sums)\n"
   ]
  },
  {
   "cell_type": "code",
   "execution_count": null,
   "metadata": {},
   "outputs": [],
   "source": [
    "# FIND THE Product with help of reduce function\n",
    "list3 = [2,4,5,6,7,8,9,25]\n",
    "from functools import reduce\n",
    "prod = reduce((lambda x,y : x * y),list3)\n",
    "print(prod)\n"
   ]
  },
  {
   "cell_type": "code",
   "execution_count": null,
   "metadata": {},
   "outputs": [],
   "source": [
    "# Use Lambda Function with userdefined function\n",
    "def quadratic(a,b,c):\n",
    "    return lambda x : a **x + b *x + c\n",
    "\n",
    "f = quadratic(2,5,6)\n",
    "f(5)"
   ]
  },
  {
   "cell_type": "code",
   "execution_count": null,
   "metadata": {},
   "outputs": [],
   "source": []
  }
 ],
 "metadata": {
  "kernelspec": {
   "display_name": "Python 3",
   "language": "python",
   "name": "python3"
  },
  "language_info": {
   "codemirror_mode": {
    "name": "ipython",
    "version": 3
   },
   "file_extension": ".py",
   "mimetype": "text/x-python",
   "name": "python",
   "nbconvert_exporter": "python",
   "pygments_lexer": "ipython3",
   "version": "3.11.3"
  },
  "orig_nbformat": 4
 },
 "nbformat": 4,
 "nbformat_minor": 2
}
