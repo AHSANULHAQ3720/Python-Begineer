{
 "cells": [
  {
   "cell_type": "code",
   "execution_count": null,
   "metadata": {},
   "outputs": [],
   "source": [
    "# Built in Function\n",
    "print(abs(-9.8))   # Return Absolute number \n",
    "print(round(9.85654,2))  # Round upto 2 decimal\n",
    "print(len(['pakistan','USA','india','brazil','canada','australia']))   # Display Length of List\n",
    "print(sum([1,25,30]))  # Print Sum of List\n",
    "print(all([1,6,0,1])) # display and condition where all element in a list should be 1 or above other it display false\n",
    "print(max([1,4,5,7,12,15])) # Find Maximum inside the list\n",
    "print(min([1,4,5,7,12,15])) # Find Minimum inside the list\n",
    "print(max((1,4,52,7,12,15))) # Find Minimum inside the list\n",
    "print(min((1,4,5,7,121,15))) # Find Minimum inside the list"
   ]
  },
  {
   "cell_type": "code",
   "execution_count": null,
   "metadata": {},
   "outputs": [],
   "source": [
    "#Iterable Function\n",
    "mylist = iter([\"Salah\",'Ahmad','Akram','Usman'])\n",
    "print(next(mylist))  # st Item 1 Printing\n",
    "print(next(mylist))  # List Item 2 Printing\n",
    "print(next(mylist))  # List Item 3 Printing\n",
    "print(next(mylist))  # List Item 4 Printing"
   ]
  },
  {
   "cell_type": "code",
   "execution_count": null,
   "metadata": {},
   "outputs": [],
   "source": [
    "# Power Function\n",
    "print(pow(2,5))  # Print Power of all"
   ]
  },
  {
   "cell_type": "code",
   "execution_count": null,
   "metadata": {},
   "outputs": [],
   "source": [
    "#  Range Function With custom start and ending point with increment of 3\n",
    "x = range(40,50,3)\n",
    "for n in x:\n",
    "    print(n)"
   ]
  },
  {
   "cell_type": "code",
   "execution_count": null,
   "metadata": {},
   "outputs": [],
   "source": [
    "# Print List item in decending order\n",
    "for i in sorted(['india','pakistan','america','srilanka','bangladesk'],reverse=True):\n",
    "    print(i)"
   ]
  },
  {
   "cell_type": "code",
   "execution_count": 8,
   "metadata": {},
   "outputs": [
    {
     "name": "stdout",
     "output_type": "stream",
     "text": [
      "['S', 'I', 'M', 'P', 'L']\n"
     ]
    }
   ],
   "source": [
    "# Slicing\n",
    "vars = ['S','I','M','P','L','I','L','E','A','R','N']\n",
    "x = slice(5)\n",
    "print(vars[x])"
   ]
  }
 ],
 "metadata": {
  "kernelspec": {
   "display_name": "Python 3",
   "language": "python",
   "name": "python3"
  },
  "language_info": {
   "codemirror_mode": {
    "name": "ipython",
    "version": 3
   },
   "file_extension": ".py",
   "mimetype": "text/x-python",
   "name": "python",
   "nbconvert_exporter": "python",
   "pygments_lexer": "ipython3",
   "version": "3.11.3"
  },
  "orig_nbformat": 4
 },
 "nbformat": 4,
 "nbformat_minor": 2
}
