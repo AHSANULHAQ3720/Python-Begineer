{
 "cells": [
  {
   "cell_type": "code",
   "execution_count": null,
   "metadata": {},
   "outputs": [],
   "source": [
    "ab = [1,5,7,9,6,14,16,18,35]\n",
    "def above(a):\n",
    "    if a > 5:\n",
    "        return a\n",
    "    \n",
    "print(list(filter(above,ab)))   # Use to Print the List Element above 5\n",
    "print(list(filter(lambda a: a > 5,ab)))  # Use to Print List Element Above 5 with Lambda Function\n",
    "    \n",
    "    "
   ]
  },
  {
   "cell_type": "code",
   "execution_count": null,
   "metadata": {},
   "outputs": [],
   "source": [
    "# FIND R in List element\n",
    "veg = ['garlic','giner','carrot','tomato','potato']\n",
    "print(list(filter(lambda x: 'r' in x,veg)))"
   ]
  },
  {
   "cell_type": "code",
   "execution_count": null,
   "metadata": {},
   "outputs": [],
   "source": []
  }
 ],
 "metadata": {
  "kernelspec": {
   "display_name": "Python 3",
   "language": "python",
   "name": "python3"
  },
  "language_info": {
   "codemirror_mode": {
    "name": "ipython",
    "version": 3
   },
   "file_extension": ".py",
   "mimetype": "text/x-python",
   "name": "python",
   "nbconvert_exporter": "python",
   "pygments_lexer": "ipython3",
   "version": "3.11.3"
  },
  "orig_nbformat": 4
 },
 "nbformat": 4,
 "nbformat_minor": 2
}
