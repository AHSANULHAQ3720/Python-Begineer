{
 "cells": [
  {
   "cell_type": "code",
   "execution_count": null,
   "metadata": {},
   "outputs": [],
   "source": [
    "# Usage of Map Function\n",
    "def add(a):\n",
    "    return a + a  # Plus each list item with thier own\n",
    "\n",
    "mylist = [2,4,5,7,9,12,15]\n",
    "out = list(map(add,mylist))\n",
    "print(out)\n",
    "\n",
    "# Second Process while using Lambda Function\n",
    "out2 = map(lambda a : a * a , mylist)  # Multiply each list item with thier own\n",
    "print(list(out2))"
   ]
  },
  {
   "cell_type": "code",
   "execution_count": 8,
   "metadata": {},
   "outputs": [
    {
     "name": "stdout",
     "output_type": "stream",
     "text": [
      "['pen', 'ink', 'pencil', 'geometery', 'clipboard']\n",
      "['PEN', 'INK', 'PENCIL', 'GEOMETERY', 'CLIPBOARD']\n",
      "['Pen', 'Ink', 'Pencil', 'Geometery', 'Clipboard']\n",
      "['pen', 'ink', 'pencil', 'geometery', 'clipboard']\n",
      "[3, 3, 6, 9, 9]\n"
     ]
    }
   ],
   "source": [
    "# While using Map function we can apply string operation\n",
    "mylist = ['Pen','Ink','Pencil','GEOMETERY','ClipBOARD']\n",
    "newlist = map(str.casefold,mylist)\n",
    "print(list(newlist))\n",
    "\n",
    "newlist = map(str.upper,mylist)\n",
    "print(list(newlist))\n",
    "\n",
    "newlist = map(str.capitalize,mylist)\n",
    "print(list(newlist))\n",
    "\n",
    "newlist = map(str.lower,mylist)\n",
    "print(list(newlist))\n",
    "\n",
    "print(list(map(lambda x:len(list(x)),mylist)))   # FIND LENGTH OF PYTHON list element"
   ]
  },
  {
   "cell_type": "code",
   "execution_count": null,
   "metadata": {},
   "outputs": [],
   "source": []
  }
 ],
 "metadata": {
  "kernelspec": {
   "display_name": "Python 3",
   "language": "python",
   "name": "python3"
  },
  "language_info": {
   "codemirror_mode": {
    "name": "ipython",
    "version": 3
   },
   "file_extension": ".py",
   "mimetype": "text/x-python",
   "name": "python",
   "nbconvert_exporter": "python",
   "pygments_lexer": "ipython3",
   "version": "3.11.3"
  },
  "orig_nbformat": 4
 },
 "nbformat": 4,
 "nbformat_minor": 2
}
