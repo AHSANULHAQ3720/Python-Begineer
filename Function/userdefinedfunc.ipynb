{
 "cells": [
  {
   "cell_type": "code",
   "execution_count": null,
   "metadata": {},
   "outputs": [],
   "source": [
    "# User Defined Function\n",
    "def countryname():\n",
    "    name = input(\"Enter your country name:\")\n",
    "    print(\"Hello \",str(name))\n",
    "    \n",
    "countryname()    "
   ]
  },
  {
   "cell_type": "code",
   "execution_count": null,
   "metadata": {},
   "outputs": [],
   "source": [
    "# User Defined Function with Parameter\n",
    "def conversiontocm(ft):\n",
    "    return ft * 30.48\n",
    "\n",
    "conversiontocm(13.58)"
   ]
  },
  {
   "cell_type": "code",
   "execution_count": null,
   "metadata": {},
   "outputs": [],
   "source": [
    "# Return Factorial of Number\n",
    "def factorial(n):\n",
    "    fact = 1\n",
    "    while n >=1:\n",
    "        fact = fact * n\n",
    "        n = n - 1\n",
    "    return fact\n",
    "\n",
    "factorial(7)    "
   ]
  },
  {
   "cell_type": "code",
   "execution_count": null,
   "metadata": {},
   "outputs": [],
   "source": [
    "# Work with default argument\n",
    "def welcome(name='Paul'):\n",
    "    print('Hello ',name)\n",
    "    \n",
    "welcome('Mani')    \n",
    "welcome()\n",
    "welcome('Wali')"
   ]
  },
  {
   "cell_type": "code",
   "execution_count": null,
   "metadata": {},
   "outputs": [],
   "source": []
  }
 ],
 "metadata": {
  "kernelspec": {
   "display_name": "Python 3",
   "language": "python",
   "name": "python3"
  },
  "language_info": {
   "codemirror_mode": {
    "name": "ipython",
    "version": 3
   },
   "file_extension": ".py",
   "mimetype": "text/x-python",
   "name": "python",
   "nbconvert_exporter": "python",
   "pygments_lexer": "ipython3",
   "version": "3.11.3"
  },
  "orig_nbformat": 4
 },
 "nbformat": 4,
 "nbformat_minor": 2
}
