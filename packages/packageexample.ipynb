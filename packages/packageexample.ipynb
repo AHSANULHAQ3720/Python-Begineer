{
 "cells": [
  {
   "cell_type": "code",
   "execution_count": null,
   "metadata": {},
   "outputs": [],
   "source": [
    "# Import whole package\n",
    "import calculation\n",
    "print(calculation.y)\n",
    "print(calculation.sum(9,5))\n",
    "print(calculation.divide(9,5))\n",
    "print(calculation.multiply(9,5))"
   ]
  },
  {
   "cell_type": "code",
   "execution_count": null,
   "metadata": {},
   "outputs": [],
   "source": [
    "# second method of package importing\n",
    "from calculation import sum\n",
    "a = int(input(\"Enter the first digit:\"))\n",
    "b = int(input(\"Enter the second digit:\"))\n",
    "print(calculation.sum(a,b))"
   ]
  },
  {
   "cell_type": "code",
   "execution_count": null,
   "metadata": {},
   "outputs": [],
   "source": [
    "from calculation import y , sum,divide,multiply,minus\n",
    "\n",
    "print(minus(9,5))\n",
    "print(divide(7,5))\n",
    "print(multiply(95,15))"
   ]
  },
  {
   "cell_type": "code",
   "execution_count": null,
   "metadata": {},
   "outputs": [],
   "source": [
    "from calculation import *\n",
    "print(multiply(9,4))\n",
    "print(sum(100,152))"
   ]
  },
  {
   "cell_type": "code",
   "execution_count": null,
   "metadata": {},
   "outputs": [],
   "source": [
    "# list of all those function and object\n",
    "import math\n",
    "print(dir(math))\n",
    "print(math.pow(2,15))  # Printing math function"
   ]
  },
  {
   "cell_type": "code",
   "execution_count": null,
   "metadata": {},
   "outputs": [],
   "source": [
    "import datetime\n",
    "print(datetime.date.today())  # FIND TODAY DATE\n",
    "\n",
    "# GET ALL FUNCTION LIST\n",
    "print(dir(datetime))\n",
    "# Print Internal Nested Function\n",
    "print(dir(datetime.date))\n"
   ]
  },
  {
   "cell_type": "code",
   "execution_count": null,
   "metadata": {},
   "outputs": [],
   "source": []
  }
 ],
 "metadata": {
  "kernelspec": {
   "display_name": "Python 3",
   "language": "python",
   "name": "python3"
  },
  "language_info": {
   "codemirror_mode": {
    "name": "ipython",
    "version": 3
   },
   "file_extension": ".py",
   "mimetype": "text/x-python",
   "name": "python",
   "nbconvert_exporter": "python",
   "pygments_lexer": "ipython3",
   "version": "3.11.3"
  },
  "orig_nbformat": 4
 },
 "nbformat": 4,
 "nbformat_minor": 2
}
