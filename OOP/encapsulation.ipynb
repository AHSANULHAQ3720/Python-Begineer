{
 "cells": [
  {
   "cell_type": "code",
   "execution_count": 18,
   "metadata": {},
   "outputs": [
    {
     "name": "stdout",
     "output_type": "stream",
     "text": [
      "900000 is a selling price:\n",
      "8000 is a new selling price:\n",
      "selling price change more than 1 time new price is 9500:\n"
     ]
    }
   ],
   "source": [
    "class priceelement:\n",
    "    change = 0\n",
    "    def __init__(self):\n",
    "        self.__maxprice = 900000\n",
    "    def sellprice(self):\n",
    "        if self.change == 1:\n",
    "            print(\"{} is a new selling price:\".format(self.__maxprice))\n",
    "        elif self.change > 1:\n",
    "            print(\"selling price change more than 1 time new price is {}:\".format(self.__maxprice))    \n",
    "        else:    \n",
    "            print(\"{} is a selling price:\".format(self.__maxprice))\n",
    "        \n",
    "    def setprice(self,price):\n",
    "        self.change = self.change + 1\n",
    "        self.__maxprice = price    \n",
    "\n",
    "a = priceelement()\n",
    "a.sellprice()       \n",
    "a.setprice(8000)\n",
    "a.sellprice()     \n",
    "a.setprice(9500)\n",
    "a.sellprice()       "
   ]
  },
  {
   "cell_type": "code",
   "execution_count": null,
   "metadata": {},
   "outputs": [],
   "source": []
  }
 ],
 "metadata": {
  "kernelspec": {
   "display_name": "Python 3",
   "language": "python",
   "name": "python3"
  },
  "language_info": {
   "codemirror_mode": {
    "name": "ipython",
    "version": 3
   },
   "file_extension": ".py",
   "mimetype": "text/x-python",
   "name": "python",
   "nbconvert_exporter": "python",
   "pygments_lexer": "ipython3",
   "version": "3.11.3"
  },
  "orig_nbformat": 4
 },
 "nbformat": 4,
 "nbformat_minor": 2
}
