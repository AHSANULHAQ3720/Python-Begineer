{
 "cells": [
  {
   "cell_type": "code",
   "execution_count": 4,
   "metadata": {},
   "outputs": [
    {
     "name": "stdout",
     "output_type": "stream",
     "text": [
      "True\n",
      "False\n"
     ]
    }
   ],
   "source": [
    "class Calculation:\n",
    "    def summation(self,a,b):\n",
    "        sum = a + b\n",
    "        return sum\n",
    "class Calculation2:\n",
    "    def multiple(self,a,b):\n",
    "        multiple = a * b\n",
    "        return multiple\n",
    "\n",
    "class Derived(Calculation,Calculation2):\n",
    "    def div(self,a,b):\n",
    "        return a / b\n",
    "\n",
    "d = Derived()\n",
    "print(issubclass(Derived,Calculation))  \n",
    "print(issubclass(Calculation2,Calculation))    "
   ]
  },
  {
   "cell_type": "code",
   "execution_count": null,
   "metadata": {},
   "outputs": [],
   "source": []
  }
 ],
 "metadata": {
  "kernelspec": {
   "display_name": "Python 3",
   "language": "python",
   "name": "python3"
  },
  "language_info": {
   "codemirror_mode": {
    "name": "ipython",
    "version": 3
   },
   "file_extension": ".py",
   "mimetype": "text/x-python",
   "name": "python",
   "nbconvert_exporter": "python",
   "pygments_lexer": "ipython3",
   "version": "3.11.3"
  },
  "orig_nbformat": 4
 },
 "nbformat": 4,
 "nbformat_minor": 2
}
