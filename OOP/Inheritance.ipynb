{
 "cells": [
  {
   "cell_type": "code",
   "execution_count": null,
   "metadata": {},
   "outputs": [],
   "source": [
    "# SIMPLE OBJECT INSTANTIAION METHOD\n",
    "class bikes:\n",
    "    def __init__(self,brandname,yearofmanfacture):\n",
    "        self.brandname= brandname\n",
    "        self.yearofmanfacture = yearofmanfacture\n",
    "\n",
    "bmw = bikes(\"bmw\",\"1997-02-15\")\n",
    "ducati = bikes(\"ducati\",\"1998-05-05\")\n",
    "\n",
    "print(\"{} is manfuactured on date {}\".format(bmw.brandname,bmw.yearofmanfacture))\n",
    "print(\"{} is manfuactured on date {}\".format(ducati.brandname,ducati.yearofmanfacture))"
   ]
  },
  {
   "cell_type": "code",
   "execution_count": null,
   "metadata": {},
   "outputs": [],
   "source": [
    "# SIMPLE OBJECT INSTANTIAION METHOD AND INVOKING METHOD FROM SAMECLASS\n",
    "class bikes:\n",
    "    def __init__(self,brandname,yearofmanfacture):\n",
    "        self.brandname= brandname\n",
    "        self.yearofmanfacture = yearofmanfacture\n",
    "    \n",
    "    def topspeed(self,topspeed):\n",
    "        return \"Top Speed of {} bike is {}\".format(self.brandname,topspeed)\n",
    "    \n",
    "    def topgear(self,flg):\n",
    "        if flg:\n",
    "            return \"{} is a geared bike\".format(self.brandname)\n",
    "        \n",
    "        return \"{} is a non-geared bike\".format(self.brandname)          \n",
    "            \n",
    "\n",
    "bmw = bikes(\"bmw\",\"1997-02-15\")\n",
    "print(\"{} is manfuactured on date {} and bike is and {} and {}\".format(bmw.brandname,bmw.yearofmanfacture,bmw.topgear(False),bmw.topspeed(150)))"
   ]
  },
  {
   "cell_type": "code",
   "execution_count": null,
   "metadata": {},
   "outputs": [],
   "source": [
    "# BASE AND DERIVED CLASS WITH SINGLE LEVEL INHERITANCE EXAMPLE\n",
    "class Animal:\n",
    "    def sound(self):\n",
    "        print(\"Animal is making sounds\")\n",
    "\n",
    "class cat(Animal):\n",
    "    def meow(self):\n",
    "        print(\"Cat is making Meow while making sound\")\n",
    "        \n",
    "an = cat()\n",
    "an.sound()\n",
    "an.meow()                "
   ]
  },
  {
   "cell_type": "code",
   "execution_count": null,
   "metadata": {},
   "outputs": [],
   "source": [
    "# BASE AND DERIVED CLASS WITH MULTI EVEL INHERITANCE EXAMPLE\n",
    "class Animal:\n",
    "    def sound(self):\n",
    "        print(\"Animal is making sounds\")\n",
    "\n",
    "class cat(Animal):\n",
    "    def meow(self):\n",
    "        print(\"Cat is making Meow while making sound\")\n",
    "\n",
    "class catchid(cat):\n",
    "    def meo(self):\n",
    "        print(\"Cat Child learning how to make sound like mother cat\")     \n",
    "    \n",
    "    def food(self,foodname):\n",
    "        print(\"Cat Child is talking {} as food\".format(foodname))       \n",
    "        \n",
    "an = catchid()\n",
    "an.meo()\n",
    "an.food(\"Bread\")\n",
    "an.sound()\n",
    "an.meow()     "
   ]
  },
  {
   "cell_type": "code",
   "execution_count": null,
   "metadata": {},
   "outputs": [],
   "source": [
    "# Multiple Inheritance\n",
    "class emplyee:\n",
    "    def __init__(self,name,age,salary,experience):\n",
    "        self.name = name\n",
    "        self.age = age\n",
    "        self.salary = salary\n",
    "        self.experience = experience\n",
    "        \n",
    "class junioremployee(emplyee):\n",
    "    def __init__(self, name, age, salary, experience):\n",
    "        super().__init__(name, age, salary, experience)\n",
    "        \n",
    "        print(\"The Employee {} with {} getting {} by having {} year experience\".format(self.name,self.age,self.salary,self.experience))\n",
    "        \n",
    "class senioremployee(emplyee):\n",
    "    def __init__(self, name, age, salary, experience):\n",
    "        super().__init__(name, age, salary, experience)\n",
    "        \n",
    "        print(\"The Employee {} with {} getting {} by having {} year experience\".format(self.name,self.age,self.salary,self.experience))\n",
    "        \n",
    "\n",
    "emp1 = junioremployee('Ahsan',32,15000,10)\n",
    "emp2 = senioremployee('Akram',32,75000,15)"
   ]
  },
  {
   "cell_type": "code",
   "execution_count": null,
   "metadata": {},
   "outputs": [],
   "source": []
  }
 ],
 "metadata": {
  "kernelspec": {
   "display_name": "Python 3",
   "language": "python",
   "name": "python3"
  },
  "language_info": {
   "codemirror_mode": {
    "name": "ipython",
    "version": 3
   },
   "file_extension": ".py",
   "mimetype": "text/x-python",
   "name": "python",
   "nbconvert_exporter": "python",
   "pygments_lexer": "ipython3",
   "version": "3.11.3"
  },
  "orig_nbformat": 4
 },
 "nbformat": 4,
 "nbformat_minor": 2
}
