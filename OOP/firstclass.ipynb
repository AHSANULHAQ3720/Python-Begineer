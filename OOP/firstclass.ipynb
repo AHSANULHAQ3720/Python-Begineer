{
 "cells": [
  {
   "cell_type": "code",
   "execution_count": null,
   "metadata": {},
   "outputs": [],
   "source": [
    "#  Creation of New Class with one class variable\n",
    "class NewClass:\n",
    "    x = 50\n",
    "\n",
    "NewClass.x\n",
    "    "
   ]
  },
  {
   "cell_type": "code",
   "execution_count": null,
   "metadata": {},
   "outputs": [],
   "source": [
    "# Create and initiate a class using an object\n",
    "class NewClass:\n",
    "    x = 50\n",
    "\n",
    "r = NewClass()\n",
    "print(r.x)    \n",
    "    "
   ]
  },
  {
   "cell_type": "code",
   "execution_count": null,
   "metadata": {},
   "outputs": [],
   "source": [
    "# How to use Self Parameter in the class with Funation and Object parameter for initialization\n",
    "class Student():\n",
    "    id = 110\n",
    "    name = \"Ahsan\"\n",
    "    grade = \"A-\"\n",
    "    \n",
    "    def display(self):\n",
    "        print(\"My Name is \",self.name , \" With Student ID\",self.id, \" Having Final Year Grade is \", self.grade)\n",
    "   \n",
    "r = Student()\n",
    "r.display()        \n",
    "    "
   ]
  },
  {
   "cell_type": "code",
   "execution_count": null,
   "metadata": {},
   "outputs": [],
   "source": [
    "# How to use DocString\n",
    "class greetingmessage():\n",
    "    \"Hi Class Amazing Journey started from now\"\n",
    "\n",
    "print(greetingmessage.__doc__)    "
   ]
  },
  {
   "cell_type": "code",
   "execution_count": null,
   "metadata": {},
   "outputs": [],
   "source": [
    "# Init Function\n",
    "class student:\n",
    "    def __init__(self,name,age):\n",
    "        self.name = name\n",
    "        self.age = age\n",
    "        \n",
    "s1 = student(\"AHSAN UL HAQ\",12)\n",
    "print(s1.name,s1.age)\n",
    "\n",
    "# You can update the object name \n",
    "s1.name = \"EHSAN UL HAQ\"\n",
    "print(s1.name,s1.age)\n",
    "\n",
    "# Object Assignment\n",
    "s2 = s1\n",
    "print(s2.name,s2.age)\n",
    "\n",
    "# Deletion of Class Object\n",
    "del s1\n",
    "\n",
    "# Try Except Block\n",
    "try:\n",
    "    print(s1.name)\n",
    "except:\n",
    "    print(\"Wrong Error due to object already deleted\",NameError)    "
   ]
  },
  {
   "cell_type": "code",
   "execution_count": 19,
   "metadata": {},
   "outputs": [
    {
     "name": "stdout",
     "output_type": "stream",
     "text": [
      "Hello my Pet name is  Puppy\n"
     ]
    }
   ],
   "source": [
    "class Animal:\n",
    "    def __init__(self,name):\n",
    "        self.name = name\n",
    "    \n",
    "    def greet(self):\n",
    "        print(\"Hello my Pet name is \" , self.name)\n",
    "        \n",
    "a1 = Animal(\"Puppy\")\n",
    "a1.greet()          "
   ]
  },
  {
   "cell_type": "code",
   "execution_count": null,
   "metadata": {},
   "outputs": [],
   "source": []
  }
 ],
 "metadata": {
  "kernelspec": {
   "display_name": "Python 3",
   "language": "python",
   "name": "python3"
  },
  "language_info": {
   "codemirror_mode": {
    "name": "ipython",
    "version": 3
   },
   "file_extension": ".py",
   "mimetype": "text/x-python",
   "name": "python",
   "nbconvert_exporter": "python",
   "pygments_lexer": "ipython3",
   "version": "3.11.3"
  },
  "orig_nbformat": 4
 },
 "nbformat": 4,
 "nbformat_minor": 2
}
