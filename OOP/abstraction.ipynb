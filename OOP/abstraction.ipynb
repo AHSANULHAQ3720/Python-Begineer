{
 "cells": [
  {
   "cell_type": "code",
   "execution_count": null,
   "metadata": {},
   "outputs": [],
   "source": [
    "class Car:\n",
    "    def mileage(self):\n",
    "        pass\n",
    "\n",
    "class BMW(Car):\n",
    "    def mileage(self):\n",
    "        print(\"Mileage speed is 30KM/H\")\n",
    "        \n",
    "class ducati(Car):\n",
    "    def mileage(self):\n",
    "        print(\"Mileage speed is 25KM/H\")\n",
    "        \n",
    "        \n",
    "class honda(Car):\n",
    "    def mileage(self):\n",
    "        print(\"Mileage speed is 27KM/H\")\n",
    "        \n",
    "class civic(Car):\n",
    "    def mileage(self):\n",
    "        print(\"Mileage speed is 29KM/H\")       \n",
    "        \n",
    "c = BMW()\n",
    "c.mileage()   \n",
    "\n",
    "d = ducati()\n",
    "d.mileage() \n",
    "\n",
    "e = honda()\n",
    "e.mileage() \n",
    "\n",
    "f = civic()\n",
    "f.mileage()                       "
   ]
  },
  {
   "cell_type": "code",
   "execution_count": null,
   "metadata": {},
   "outputs": [],
   "source": []
  }
 ],
 "metadata": {
  "kernelspec": {
   "display_name": "Python 3",
   "language": "python",
   "name": "python3"
  },
  "language_info": {
   "codemirror_mode": {
    "name": "ipython",
    "version": 3
   },
   "file_extension": ".py",
   "mimetype": "text/x-python",
   "name": "python",
   "nbconvert_exporter": "python",
   "pygments_lexer": "ipython3",
   "version": "3.11.3"
  },
  "orig_nbformat": 4
 },
 "nbformat": 4,
 "nbformat_minor": 2
}
