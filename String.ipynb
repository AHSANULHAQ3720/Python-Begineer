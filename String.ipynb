{
 "cells": [
  {
   "cell_type": "code",
   "execution_count": 6,
   "metadata": {},
   "outputs": [
    {
     "name": "stdout",
     "output_type": "stream",
     "text": [
      "False\n"
     ]
    }
   ],
   "source": [
    "textinput = \"Simlilearn\"\n",
    "len(textinput)  # Find the Length of String\n",
    "# Slicing\n",
    "textinput[:6]  # Print till 6 index of string\n",
    "textinput[:-1]  # Printing from second last character and display till start\n",
    "textinput[::-1]  # Priting from second last character and display the string in reverse order\n",
    "print('w' in textinput)  # Find w in textinput if found it show true else false\n",
    "\n"
   ]
  },
  {
   "cell_type": "code",
   "execution_count": 11,
   "metadata": {},
   "outputs": [
    {
     "name": "stdout",
     "output_type": "stream",
     "text": [
      "Brad and James are best friend:\n",
      "Brad and James are best friend:\n",
      "James and Brad are best friend:\n"
     ]
    }
   ],
   "source": [
    "# String Representation\n",
    "print(\"{} and {} are best friend:\".format(\"Brad\",\"James\"))\n",
    "print(\"{1} and {0} are best friend:\".format(\"James\",\"Brad\"))\n",
    "print(\"{a} and {b} are best friend:\".format(a=\"James\",b=\"Brad\"))"
   ]
  },
  {
   "cell_type": "code",
   "execution_count": null,
   "metadata": {},
   "outputs": [],
   "source": []
  }
 ],
 "metadata": {
  "kernelspec": {
   "display_name": "Python 3",
   "language": "python",
   "name": "python3"
  },
  "language_info": {
   "codemirror_mode": {
    "name": "ipython",
    "version": 3
   },
   "file_extension": ".py",
   "mimetype": "text/x-python",
   "name": "python",
   "nbconvert_exporter": "python",
   "pygments_lexer": "ipython3",
   "version": "3.11.3"
  },
  "orig_nbformat": 4
 },
 "nbformat": 4,
 "nbformat_minor": 2
}
