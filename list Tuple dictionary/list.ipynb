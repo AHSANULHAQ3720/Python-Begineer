{
 "cells": [
  {
   "cell_type": "code",
   "execution_count": 12,
   "metadata": {},
   "outputs": [
    {
     "data": {
      "text/plain": [
       "['wali', 'noman', 'musaddaq', 'mani', 'asif', 'akram', 'ahsan', 'ahmad']"
      ]
     },
     "execution_count": 12,
     "metadata": {},
     "output_type": "execute_result"
    }
   ],
   "source": [
    "#  List can be defined as group of string , integer and other data type with seprate with help of comma\n",
    "vals = [\"ahmad\",\"musaddaq\",\"asif\",\"noman\",\"wali\"]\n",
    "secondusers = [\"mani\",\"mishi\"]\n",
    "vals.append(\"akram\")   # Append new item in a list at the end\n",
    "vals.insert(1,\"ahsan\")\n",
    "vals.extend(secondusers)\n",
    "vals\n",
    "\n",
    "vals.index(\"mani\")  # Find Index of element\n",
    "vals.remove(\"mishi\")\n",
    "vals.sort()\n",
    "vals.reverse() \n",
    "vals"
   ]
  },
  {
   "cell_type": "code",
   "execution_count": null,
   "metadata": {},
   "outputs": [],
   "source": []
  }
 ],
 "metadata": {
  "kernelspec": {
   "display_name": "Python 3",
   "language": "python",
   "name": "python3"
  },
  "language_info": {
   "codemirror_mode": {
    "name": "ipython",
    "version": 3
   },
   "file_extension": ".py",
   "mimetype": "text/x-python",
   "name": "python",
   "nbconvert_exporter": "python",
   "pygments_lexer": "ipython3",
   "version": "3.11.3"
  },
  "orig_nbformat": 4
 },
 "nbformat": 4,
 "nbformat_minor": 2
}
