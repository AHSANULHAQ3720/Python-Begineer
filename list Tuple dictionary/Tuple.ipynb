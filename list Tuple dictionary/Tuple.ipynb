{
 "cells": [
  {
   "cell_type": "code",
   "execution_count": 1,
   "id": "4f60a39f",
   "metadata": {},
   "outputs": [
    {
     "data": {
      "text/plain": [
       "(1, 2, 3, 4, 5, 6, 7, 8)"
      ]
     },
     "execution_count": 1,
     "metadata": {},
     "output_type": "execute_result"
    }
   ],
   "source": [
    "vals = (1,2,3,4,5,6,7,8)\n",
    "vals"
   ]
  },
  {
   "cell_type": "code",
   "execution_count": 2,
   "id": "bc0a08c4",
   "metadata": {},
   "outputs": [
    {
     "data": {
      "text/plain": [
       "tuple"
      ]
     },
     "execution_count": 2,
     "metadata": {},
     "output_type": "execute_result"
    }
   ],
   "source": [
    "type(vals)"
   ]
  },
  {
   "cell_type": "code",
   "execution_count": 3,
   "id": "1484e02c",
   "metadata": {},
   "outputs": [
    {
     "data": {
      "text/plain": [
       "8"
      ]
     },
     "execution_count": 3,
     "metadata": {},
     "output_type": "execute_result"
    }
   ],
   "source": [
    "# Find Length of tuple\n",
    "len(vals)"
   ]
  },
  {
   "cell_type": "code",
   "execution_count": 5,
   "id": "94feb06b",
   "metadata": {},
   "outputs": [
    {
     "data": {
      "text/plain": [
       "(1, 2, 3, 4, 5, 6, 7, 8, 8, 6, 7, 8, 6, 7)"
      ]
     },
     "execution_count": 5,
     "metadata": {},
     "output_type": "execute_result"
    }
   ],
   "source": [
    "# To Add more values in tuple\n",
    "vals = vals + (8,6,7)\n",
    "vals"
   ]
  },
  {
   "cell_type": "code",
   "execution_count": 8,
   "id": "aeb7da3d",
   "metadata": {},
   "outputs": [
    {
     "data": {
      "text/plain": [
       "(1, 2, 3, 4, 5, 6, 7, 8, 8, 6, 7, 8, 6)"
      ]
     },
     "execution_count": 8,
     "metadata": {},
     "output_type": "execute_result"
    }
   ],
   "source": [
    "# Find Element by Slicing\n",
    "vals[3]\n",
    "vals[:3]\n",
    "vals[:-1]"
   ]
  },
  {
   "cell_type": "code",
   "execution_count": 10,
   "id": "61f0aebb",
   "metadata": {},
   "outputs": [
    {
     "data": {
      "text/plain": [
       "3"
      ]
     },
     "execution_count": 10,
     "metadata": {},
     "output_type": "execute_result"
    }
   ],
   "source": [
    "# Find Specific Element inside Python\n",
    "vals.count(6)"
   ]
  },
  {
   "cell_type": "code",
   "execution_count": 11,
   "id": "8c9f7501",
   "metadata": {},
   "outputs": [
    {
     "data": {
      "text/plain": [
       "5"
      ]
     },
     "execution_count": 11,
     "metadata": {},
     "output_type": "execute_result"
    }
   ],
   "source": [
    "# To Find Element index (Index always return first position of element )\n",
    "vals.index(6)"
   ]
  },
  {
   "cell_type": "code",
   "execution_count": 3,
   "id": "a9da2177",
   "metadata": {},
   "outputs": [
    {
     "name": "stdout",
     "output_type": "stream",
     "text": [
      "0x2\n",
      "0o2\n",
      "0b10\n",
      "G\n"
     ]
    }
   ],
   "source": [
    "a = 2\n",
    "b = hex(a)\n",
    "c = oct(a)\n",
    "d = bin(a)\n",
    "print(b)\n",
    "print(c)\n",
    "print(d)"
   ]
  },
  {
   "cell_type": "code",
   "execution_count": 16,
   "id": "36b1ecf8",
   "metadata": {},
   "outputs": [],
   "source": [
    "# To Print ascii code for character range 97 to 151\n",
    "f1 = open('C:/Ordoroexport/asciicode.txt', 'w')\n",
    "for i in range(65, 119):\n",
    "    f1.write('The ASCII Code of {} is {}\\n'.format(i, chr(i)))\n",
    "f1.close()"
   ]
  },
  {
   "cell_type": "code",
   "execution_count": 11,
   "id": "b2cdf164",
   "metadata": {},
   "outputs": [
    {
     "data": {
      "text/plain": [
       "('mango', 'lemon', 'guava', 'orange')"
      ]
     },
     "execution_count": 11,
     "metadata": {},
     "output_type": "execute_result"
    }
   ],
   "source": [
    "fruits = (\"orange\",\"guava\",\"lemon\",\"mango\")\n",
    "# Access Element through index\n",
    "fruits[::-1]\n",
    "tuple(reversed(fruits))\n"
   ]
  },
  {
   "cell_type": "code",
   "execution_count": 12,
   "id": "c1a27494",
   "metadata": {},
   "outputs": [
    {
     "name": "stdout",
     "output_type": "stream",
     "text": [
      "1\n"
     ]
    }
   ],
   "source": [
    "# Count Tuple Element with Method\n",
    "print(fruits.count(\"mango\"))"
   ]
  },
  {
   "cell_type": "code",
   "execution_count": null,
   "id": "5d2e53a5",
   "metadata": {},
   "outputs": [],
   "source": []
  }
 ],
 "metadata": {
  "kernelspec": {
   "display_name": "Python 3 (ipykernel)",
   "language": "python",
   "name": "python3"
  },
  "language_info": {
   "codemirror_mode": {
    "name": "ipython",
    "version": 3
   },
   "file_extension": ".py",
   "mimetype": "text/x-python",
   "name": "python",
   "nbconvert_exporter": "python",
   "pygments_lexer": "ipython3",
   "version": "3.11.3"
  }
 },
 "nbformat": 4,
 "nbformat_minor": 5
}
