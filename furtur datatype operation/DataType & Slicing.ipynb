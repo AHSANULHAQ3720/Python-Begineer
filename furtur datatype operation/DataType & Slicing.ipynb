{
 "cells": [
  {
   "cell_type": "code",
   "execution_count": 47,
   "id": "e3537974",
   "metadata": {
    "scrolled": true
   },
   "outputs": [
    {
     "name": "stdout",
     "output_type": "stream",
     "text": [
      "<class 'int'>\n",
      "<class 'float'>\n"
     ]
    }
   ],
   "source": [
    "# Numeric Data Type Int\n",
    "n =5\n",
    "print(type(n))\n",
    "\n",
    "# Implicit conversion into Float Data Type\n",
    "print(type(float(n)))"
   ]
  },
  {
   "cell_type": "code",
   "execution_count": 53,
   "id": "d407ed92",
   "metadata": {},
   "outputs": [
    {
     "name": "stdout",
     "output_type": "stream",
     "text": [
      "<class 'float'>\n"
     ]
    },
    {
     "data": {
      "text/plain": [
       "complex"
      ]
     },
     "execution_count": 53,
     "metadata": {},
     "output_type": "execute_result"
    }
   ],
   "source": [
    "# Numeric Data Type Float\n",
    "p = 25.2\n",
    "print(type(p))\n",
    "\n",
    "# Implicit conversion into complex data type\n",
    "p1 = p + 0j\n",
    "type(p1)"
   ]
  },
  {
   "cell_type": "code",
   "execution_count": 38,
   "id": "7fb9e00d",
   "metadata": {},
   "outputs": [
    {
     "data": {
      "text/plain": [
       "complex"
      ]
     },
     "execution_count": 38,
     "metadata": {},
     "output_type": "execute_result"
    }
   ],
   "source": [
    "# Numeric Data Type Complex\n",
    "q = 2 +6j\n",
    "type(q)"
   ]
  },
  {
   "cell_type": "code",
   "execution_count": 85,
   "id": "09c10db9",
   "metadata": {},
   "outputs": [
    {
     "data": {
      "text/plain": [
       "['This', 'is', 'a', 'string']"
      ]
     },
     "execution_count": 85,
     "metadata": {},
     "output_type": "execute_result"
    }
   ],
   "source": [
    "# String Data Type str\n",
    "name = \"Python Lover\"\n",
    "type(name)\n",
    "\n",
    "# String Slicing\n",
    "name[0:4]  # First 4 digit of string name\n",
    "name[:4]   # First 4 digit of string name where : represent start of string from 0 index and 4 in ending index excluded here\n",
    "\n",
    "name[4:] # Start printing from 4 index to the end of string \n",
    "name[-4] # start printing from right side \n",
    "\n",
    "name[2:10:2] # Here SubString contian letter at 2,4,6,8 index\n",
    "\n",
    "#Print Reverse String\n",
    "name[::-1]\n",
    "\n",
    "name[12:0:-1]\n",
    "\n",
    "# String Method\n",
    "\n",
    "name.capitalize()  # Convert into Capitalize Case  (Output : Python Lover)\n",
    "name.lower()    # Convert into Lower Case    (Output : python lover)\n",
    "name.upper()   # Convert into Upper Case    (Output : PYTHON LOVER)\n",
    "name.count(\"P\")  # Find how many time specifc searchitem came to string\n",
    "name.find(\"y\") # Return index where specific search item found if not available it return -1\n",
    "name.encode() # Return encoded version of string\n",
    "name.swapcase() # Change the case of string all lower string item goes to bigger case and bigger to lower vice verse\n",
    "\n",
    "\n",
    "combinestring = \"This,is,a,string\"\n",
    "combinestring.split(\",\")  # Split function return splitted version of a string and convert type to list\n"
   ]
  },
  {
   "cell_type": "code",
   "execution_count": 120,
   "id": "1c35a794",
   "metadata": {},
   "outputs": [
    {
     "data": {
      "text/plain": [
       "[3, 4, 5, 6, 7, 3, 4, 5, 6, 7, 3, 4, 5, 6, 7]"
      ]
     },
     "execution_count": 120,
     "metadata": {},
     "output_type": "execute_result"
    }
   ],
   "source": [
    "# Sequence Data Type list\n",
    "vals = [1,2,3,4,5]\n",
    "type(vals)\n",
    "\n",
    "len(vals) # TOtal number of list item\n",
    "vals.count(5)  # Count number of item list item appear in a list as 5 is only available one time so result show 1\n",
    "vals.append(6) # Append number on the end of the list\n",
    "vals.append(7) # Append second item\n",
    "\n",
    "vals.remove(1)    # remove method remove \n",
    "vals.reverse() # Reverse the list\n",
    "vals.insert(1,70)  # Insert value at specific index\n",
    "vals.pop(1)  # Insert Value at specific index\n",
    "vals.pop(-1) # Remove Value from the right\n",
    "\n",
    "vals.sort() # Sorted the List\n",
    "vals\n",
    "\n",
    "vals * 3 # Duplicate the List 3 time by multiplying it with any element"
   ]
  },
  {
   "cell_type": "code",
   "execution_count": 117,
   "id": "dda191a9",
   "metadata": {},
   "outputs": [
    {
     "data": {
      "text/plain": [
       "4"
      ]
     },
     "execution_count": 117,
     "metadata": {},
     "output_type": "execute_result"
    }
   ],
   "source": [
    "# Sequence Data Type tuple\n",
    "vals2 = (1,2,3,4,5,6)\n",
    "type(vals2)\n",
    "\n",
    "vals2.count(2) # Count specific item inside the tuple\n",
    "vals2.index(5) # Find the index of element 5 "
   ]
  },
  {
   "cell_type": "code",
   "execution_count": 129,
   "id": "05ab365a",
   "metadata": {},
   "outputs": [
    {
     "name": "stdout",
     "output_type": "stream",
     "text": [
      "{1, 2, 3, 4, 5, 6, 7, 8, 'd', 'a', 'c', 'e', 'b'}\n",
      "{1, 2, 3}\n"
     ]
    },
    {
     "data": {
      "text/plain": [
       "{'a', 'b', 'c', 'd', 'e'}"
      ]
     },
     "execution_count": 129,
     "metadata": {},
     "output_type": "execute_result"
    }
   ],
   "source": [
    "# Set Data Type\n",
    "set1 = {1,2,3,4,5,6,7,8,3,5,7,8,6}\n",
    "type(set1) # Find the type\n",
    "len(set1) # Only return count of unique element inside set\n",
    "set1 # Set remove all duplicate element while printing\n",
    "\n",
    "set2 = {1,2,3,\"a\",\"b\",\"c\",\"d\",\"e\"}\n",
    "print(set1 | set2)\n",
    "print(set1 & set2)\n",
    "set2 - set1 # Show non unique item from two set\n"
   ]
  },
  {
   "cell_type": "code",
   "execution_count": 43,
   "id": "2c0da806",
   "metadata": {},
   "outputs": [
    {
     "data": {
      "text/plain": [
       "range"
      ]
     },
     "execution_count": 43,
     "metadata": {},
     "output_type": "execute_result"
    }
   ],
   "source": [
    "# Sequence Data Type Range\n",
    "x = range(2,50,2)\n",
    "type(x)"
   ]
  },
  {
   "cell_type": "code",
   "execution_count": 44,
   "id": "7c1f4b95",
   "metadata": {},
   "outputs": [
    {
     "data": {
      "text/plain": [
       "bool"
      ]
     },
     "execution_count": 44,
     "metadata": {},
     "output_type": "execute_result"
    }
   ],
   "source": [
    "# boolean Data Type\n",
    "ispassed = True\n",
    "type(ispassed)"
   ]
  },
  {
   "cell_type": "code",
   "execution_count": 45,
   "id": "5d072da4",
   "metadata": {},
   "outputs": [
    {
     "name": "stdout",
     "output_type": "stream",
     "text": [
      "<class 'dict'>\n"
     ]
    }
   ],
   "source": [
    "# Mapping Data Type\n",
    "thisdict = {\n",
    "  \"brand\": \"Ford\",\n",
    "  \"model\": \"Mustang\",\n",
    "  \"year\": 1964\n",
    "}\n",
    "print(type(thisdict))"
   ]
  },
  {
   "cell_type": "code",
   "execution_count": 46,
   "id": "29801fec",
   "metadata": {},
   "outputs": [
    {
     "data": {
      "text/plain": [
       "float"
      ]
     },
     "execution_count": 46,
     "metadata": {},
     "output_type": "execute_result"
    }
   ],
   "source": [
    "# Type Conversion\n",
    "type(float(n))"
   ]
  },
  {
   "cell_type": "code",
   "execution_count": null,
   "id": "ac16fd32",
   "metadata": {},
   "outputs": [],
   "source": []
  }
 ],
 "metadata": {
  "kernelspec": {
   "display_name": "Python 3 (ipykernel)",
   "language": "python",
   "name": "python3"
  },
  "language_info": {
   "codemirror_mode": {
    "name": "ipython",
    "version": 3
   },
   "file_extension": ".py",
   "mimetype": "text/x-python",
   "name": "python",
   "nbconvert_exporter": "python",
   "pygments_lexer": "ipython3",
   "version": "3.11.3"
  }
 },
 "nbformat": 4,
 "nbformat_minor": 5
}
