{
 "cells": [
  {
   "cell_type": "code",
   "execution_count": null,
   "metadata": {},
   "outputs": [],
   "source": [
    "# Local Scope\n",
    "def fun():\n",
    "    s = \"Simplilearn\"\n",
    "    print(s)\n",
    "\n",
    "fun()    "
   ]
  },
  {
   "cell_type": "code",
   "execution_count": null,
   "metadata": {},
   "outputs": [],
   "source": [
    "# Trying to access same object outside the funciton\n",
    "def fun():\n",
    "    s = \"Simplilearn\"\n",
    "    return s\n",
    "fun()"
   ]
  },
  {
   "cell_type": "code",
   "execution_count": null,
   "metadata": {},
   "outputs": [],
   "source": [
    "# Function inside Another Function\n",
    "def func():\n",
    "    s = \"Welcome and Thanks Simplilearn\"\n",
    "    def infun():\n",
    "        print(s)\n",
    "    infun()    \n",
    "func()        "
   ]
  },
  {
   "cell_type": "code",
   "execution_count": null,
   "metadata": {},
   "outputs": [],
   "source": [
    "msg = \"This is global scope variable\"\n",
    "def outer():\n",
    "    msg = \"This is an outer variable\"\n",
    "    def inner():\n",
    "        # msg = \"This is inner variable\"\n",
    "        nonlocal msg\n",
    "        print(msg)\n",
    "    inner()\n",
    "outer()    \n",
    "print(msg)    "
   ]
  },
  {
   "cell_type": "code",
   "execution_count": null,
   "metadata": {},
   "outputs": [],
   "source": [
    "# Global Variable\n",
    "s = 'Simplilearn'\n",
    "def func():\n",
    "    print(s)\n",
    "\n",
    "func()\n",
    "print(s)    "
   ]
  },
  {
   "cell_type": "code",
   "execution_count": null,
   "metadata": {},
   "outputs": [],
   "source": [
    "# GLOBAL VARIABLE WITH GLOBAL KEYWORD\n",
    "def func():\n",
    "    global s\n",
    "    s = 'Simplilearn'\n",
    "    print(s)\n",
    "func()\n",
    "print(s)    "
   ]
  },
  {
   "cell_type": "code",
   "execution_count": null,
   "metadata": {},
   "outputs": [],
   "source": [
    "# GLOBAL VARIABLE BYPASS WITH ENCLOSED BRACKET\n",
    "a  = 'India'\n",
    "def func():\n",
    "    global a\n",
    "    a = 'France'\n",
    "\n",
    "func()\n",
    "print(a)    "
   ]
  },
  {
   "cell_type": "code",
   "execution_count": 11,
   "metadata": {},
   "outputs": [
    {
     "name": "stdout",
     "output_type": "stream",
     "text": [
      "3.141592653589793\n"
     ]
    }
   ],
   "source": [
    "# Built in Scope Variable\n",
    "from math import pi\n",
    "# pi = \"outer pi module\"\n",
    "\n",
    "def outer():\n",
    "    # pi = \"\"\n",
    "    print(pi)\n",
    "outer()    "
   ]
  },
  {
   "cell_type": "code",
   "execution_count": null,
   "metadata": {},
   "outputs": [],
   "source": []
  }
 ],
 "metadata": {
  "kernelspec": {
   "display_name": "Python 3",
   "language": "python",
   "name": "python3"
  },
  "language_info": {
   "codemirror_mode": {
    "name": "ipython",
    "version": 3
   },
   "file_extension": ".py",
   "mimetype": "text/x-python",
   "name": "python",
   "nbconvert_exporter": "python",
   "pygments_lexer": "ipython3",
   "version": "3.11.3"
  },
  "orig_nbformat": 4
 },
 "nbformat": 4,
 "nbformat_minor": 2
}
