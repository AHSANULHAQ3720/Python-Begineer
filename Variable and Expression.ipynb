{
 "cells": [
  {
   "cell_type": "code",
   "execution_count": 7,
   "id": "dc0a673d",
   "metadata": {},
   "outputs": [
    {
     "name": "stdout",
     "output_type": "stream",
     "text": [
      "Enter the First Day Reading:15\n"
     ]
    }
   ],
   "source": [
    "# Enter First Variable\n",
    "a = int(input(\"Enter the First Day Reading:\"))"
   ]
  },
  {
   "cell_type": "code",
   "execution_count": 8,
   "id": "512abc24",
   "metadata": {},
   "outputs": [
    {
     "name": "stdout",
     "output_type": "stream",
     "text": [
      "Enter the Second Day Reading:25\n"
     ]
    }
   ],
   "source": [
    "# Enter Second Variable\n",
    "b = int(input(\"Enter the Second Day Reading:\"))"
   ]
  },
  {
   "cell_type": "code",
   "execution_count": 9,
   "id": "9ff229bc",
   "metadata": {},
   "outputs": [
    {
     "name": "stdout",
     "output_type": "stream",
     "text": [
      "40\n"
     ]
    }
   ],
   "source": [
    "# Print Sum of it\n",
    "print(a + b)"
   ]
  },
  {
   "cell_type": "code",
   "execution_count": 11,
   "id": "15c3ac7e",
   "metadata": {},
   "outputs": [
    {
     "name": "stdout",
     "output_type": "stream",
     "text": [
      "<class 'int'>\n",
      "<class 'int'>\n"
     ]
    }
   ],
   "source": [
    "# Check type of a and b\n",
    "print(type(a))\n",
    "print(type(b))"
   ]
  },
  {
   "cell_type": "code",
   "execution_count": 12,
   "id": "509bcaa4",
   "metadata": {},
   "outputs": [
    {
     "name": "stdout",
     "output_type": "stream",
     "text": [
      "140728100381928\n",
      "140728100382248\n"
     ]
    }
   ],
   "source": [
    "# print Id of variable\n",
    "print(id(a))\n",
    "print(id(b))"
   ]
  },
  {
   "cell_type": "code",
   "execution_count": 13,
   "id": "7ebadd63",
   "metadata": {},
   "outputs": [
    {
     "name": "stdout",
     "output_type": "stream",
     "text": [
      "125\n",
      "147\n",
      "195\n"
     ]
    }
   ],
   "source": [
    "# Variable Initialization Together Seprated by Comma\n",
    "a,b,c=125,147,195\n",
    "print(a)\n",
    "print(b)\n",
    "print(c)"
   ]
  },
  {
   "cell_type": "code",
   "execution_count": 16,
   "id": "86c5376c",
   "metadata": {},
   "outputs": [
    {
     "name": "stdout",
     "output_type": "stream",
     "text": [
      "100\n",
      "250\n",
      "350\n",
      "puppy\n"
     ]
    }
   ],
   "source": [
    "# Rule for Variable Naming (Variable name is case senstive)\n",
    "abc = 100\n",
    "Abc = 250\n",
    "_125abc = 350\n",
    "Dog_Name = \"puppy\"\n",
    "\n",
    "print(abc)\n",
    "print(Abc)\n",
    "print(_125abc)\n",
    "print(Dog_Name)"
   ]
  },
  {
   "cell_type": "code",
   "execution_count": null,
   "id": "eff72b80",
   "metadata": {},
   "outputs": [],
   "source": []
  }
 ],
 "metadata": {
  "kernelspec": {
   "display_name": "Python 3 (ipykernel)",
   "language": "python",
   "name": "python3"
  },
  "language_info": {
   "codemirror_mode": {
    "name": "ipython",
    "version": 3
   },
   "file_extension": ".py",
   "mimetype": "text/x-python",
   "name": "python",
   "nbconvert_exporter": "python",
   "pygments_lexer": "ipython3",
   "version": "3.11.3"
  }
 },
 "nbformat": 4,
 "nbformat_minor": 5
}
