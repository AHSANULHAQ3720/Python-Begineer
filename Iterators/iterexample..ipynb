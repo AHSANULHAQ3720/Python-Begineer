{
 "cells": [
  {
   "cell_type": "code",
   "execution_count": null,
   "metadata": {},
   "outputs": [],
   "source": [
    "items = [12,38,45,65,98,78,14]\n",
    "my_iter = iter(items)\n",
    "\n",
    "# Just to print each iteration item manually\n",
    "print(next(my_iter))\n",
    "print(next(my_iter))\n",
    "print(my_iter.__next__())\n",
    "print(my_iter.__next__())\n",
    "print(my_iter.__next__())\n",
    "print(my_iter.__next__())\n",
    "print(my_iter.__next__())\n",
    "print(my_iter.__next__())  # While Calling the Iteration 8th time you will get an error to fix it we can use while/for with break statment in next coding block"
   ]
  },
  {
   "cell_type": "code",
   "execution_count": null,
   "metadata": {},
   "outputs": [],
   "source": [
    "# List Item with Iteration Object (Using while element)\n",
    "items = [12,38,45,65,98]\n",
    "my_iter = iter(items)\n",
    "sum = 0\n",
    "\n",
    "while True:\n",
    "    try:\n",
    "        itemiter = next(my_iter)\n",
    "        sum = sum + itemiter\n",
    "        print(itemiter)\n",
    "    except StopIteration:\n",
    "            break\n",
    "        \n",
    "print(\"The sum of list item is :\",sum)        "
   ]
  },
  {
   "cell_type": "code",
   "execution_count": null,
   "metadata": {},
   "outputs": [],
   "source": [
    "# List Item with Iteration Object (Using For element)\n",
    "items = [12,38,45,65,98]\n",
    "sum = 0\n",
    "for i in items:\n",
    "    sum = sum + i\n",
    "    print(i)\n",
    "        \n",
    "print(\"The sum of list item is :\",sum)  "
   ]
  },
  {
   "cell_type": "code",
   "execution_count": null,
   "metadata": {},
   "outputs": [],
   "source": []
  }
 ],
 "metadata": {
  "kernelspec": {
   "display_name": "Python 3",
   "language": "python",
   "name": "python3"
  },
  "language_info": {
   "codemirror_mode": {
    "name": "ipython",
    "version": 3
   },
   "file_extension": ".py",
   "mimetype": "text/x-python",
   "name": "python",
   "nbconvert_exporter": "python",
   "pygments_lexer": "ipython3",
   "version": "3.11.3"
  },
  "orig_nbformat": 4
 },
 "nbformat": 4,
 "nbformat_minor": 2
}
