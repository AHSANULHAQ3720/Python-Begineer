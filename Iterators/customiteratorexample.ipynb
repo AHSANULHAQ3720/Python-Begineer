{
 "cells": [
  {
   "cell_type": "code",
   "execution_count": null,
   "metadata": {},
   "outputs": [],
   "source": [
    "class addsix:\n",
    "    def __init__(self,max = 0):\n",
    "        self.max = max\n",
    "    \n",
    "    def __iter__(self):\n",
    "         self.n = 0\n",
    "         return self\n",
    "    \n",
    "    def __next__(self):\n",
    "        if self.n <= self.max:\n",
    "            result = self.n + 6\n",
    "            self.n += 1\n",
    "            return result\n",
    "        else:\n",
    "            raise StopIteration\n",
    "                \n",
    "\n",
    "number = addsix(10)\n",
    "newnumber = iter(number)\n",
    "for i in newnumber:\n",
    "    print(i)"
   ]
  },
  {
   "cell_type": "code",
   "execution_count": null,
   "metadata": {},
   "outputs": [],
   "source": [
    "# Print 1st 20 nUMBER\n",
    "class numb:\n",
    "    def __iter__(self):\n",
    "         self.n = 1\n",
    "         return self\n",
    "    \n",
    "    def __next__(self):\n",
    "        if self.n <= 20:\n",
    "            result = self.n\n",
    "            self.n += 1\n",
    "            return result\n",
    "        else:\n",
    "            raise StopIteration\n",
    "                \n",
    "\n",
    "number = numb()\n",
    "newnumber = iter(number)\n",
    "for i in newnumber:\n",
    "    print(i)"
   ]
  },
  {
   "cell_type": "code",
   "execution_count": null,
   "metadata": {},
   "outputs": [],
   "source": []
  }
 ],
 "metadata": {
  "kernelspec": {
   "display_name": "Python 3",
   "language": "python",
   "name": "python3"
  },
  "language_info": {
   "codemirror_mode": {
    "name": "ipython",
    "version": 3
   },
   "file_extension": ".py",
   "mimetype": "text/x-python",
   "name": "python",
   "nbconvert_exporter": "python",
   "pygments_lexer": "ipython3",
   "version": "3.11.3"
  },
  "orig_nbformat": 4
 },
 "nbformat": 4,
 "nbformat_minor": 2
}
