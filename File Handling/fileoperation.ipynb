{
 "cells": [
  {
   "cell_type": "code",
   "execution_count": null,
   "metadata": {},
   "outputs": [],
   "source": [
    "# How to read the text file .  READ WHOLE LINE\n",
    "import os\n",
    "fil = open('D:/Github Repo/Pythontutorial/File Handling/learn.txt','r')\n",
    "print(fil.read(7))\n",
    "print(fil.close())"
   ]
  },
  {
   "cell_type": "code",
   "execution_count": null,
   "metadata": {},
   "outputs": [],
   "source": [
    "import os\n",
    "fil = open('D:/Github Repo/Pythontutorial/File Handling/learn.txt','r')\n",
    "print(fil.readline())  # read single line\n",
    "fil.close()"
   ]
  },
  {
   "cell_type": "code",
   "execution_count": null,
   "metadata": {},
   "outputs": [],
   "source": [
    "import os\n",
    "fil = open('D:/Github Repo/Pythontutorial/File Handling/learn.txt','r')\n",
    "print(fil.readlines())  # read whole file splitted with \\n\n",
    "fil.close()"
   ]
  },
  {
   "cell_type": "code",
   "execution_count": null,
   "metadata": {},
   "outputs": [],
   "source": [
    "# How to write new dataset in previous file\n",
    "import os\n",
    "fil = open('D:/Github Repo/Pythontutorial/File Handling/learn.txt','w')\n",
    "fil.write(\"Hello it is working   \")\n",
    "fil.write(\"ADVANCE BI Detail\")\n",
    "fil.close()"
   ]
  },
  {
   "cell_type": "code",
   "execution_count": 9,
   "metadata": {},
   "outputs": [
    {
     "name": "stdout",
     "output_type": "stream",
     "text": [
      "['pakistan\\n', 'near to complete\\n', 'setup today']\n"
     ]
    }
   ],
   "source": [
    "import os\n",
    "file = open('D:/Github Repo/Pythontutorial/File Handling/learn.txt','r')\n",
    "for line in file:\n",
    "    print(file.readlines())\n",
    "\n",
    "fil.close()"
   ]
  },
  {
   "cell_type": "code",
   "execution_count": null,
   "metadata": {},
   "outputs": [],
   "source": [
    "# Python how to remove the file\n",
    "import os\n",
    "os.remove(\"D:/Github Repo/Pythontutorial/File Handling/learn.txt\")"
   ]
  },
  {
   "cell_type": "code",
   "execution_count": null,
   "metadata": {},
   "outputs": [],
   "source": []
  }
 ],
 "metadata": {
  "kernelspec": {
   "display_name": "Python 3",
   "language": "python",
   "name": "python3"
  },
  "language_info": {
   "codemirror_mode": {
    "name": "ipython",
    "version": 3
   },
   "file_extension": ".py",
   "mimetype": "text/x-python",
   "name": "python",
   "nbconvert_exporter": "python",
   "pygments_lexer": "ipython3",
   "version": "3.11.3"
  },
  "orig_nbformat": 4
 },
 "nbformat": 4,
 "nbformat_minor": 2
}
