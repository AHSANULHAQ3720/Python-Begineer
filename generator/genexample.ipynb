{
 "cells": [
  {
   "cell_type": "code",
   "execution_count": 12,
   "metadata": {},
   "outputs": [],
   "source": [
    "def my_gen():\n",
    "    n = 1\n",
    "    print(\"This is first Object Executed\")\n",
    "    \n",
    "    yield n\n",
    "    n += 1\n",
    "    print(\"This is second Object Executed\")\n",
    "    \n",
    "    yield n\n",
    "    n += 1\n",
    "    print(\"This is Third Object Executed\")\n",
    "    yield n\n",
    "\n",
    "for i in my_gen():\n",
    "    print(i)"
   ]
  },
  {
   "cell_type": "code",
   "execution_count": null,
   "metadata": {},
   "outputs": [],
   "source": [
    "def my_generator():\n",
    "    n = 1\n",
    "    print(\"This is first Object Executed\")\n",
    "    \n",
    "    yield n\n",
    "    \n",
    "    return\n",
    "    n += 1\n",
    "    print(\"This is second Object Executed\")\n",
    "    \n",
    "    yield n\n",
    "    n += 1\n",
    "    print(\"This is Third Object Executed\")\n",
    "    yield n\n",
    "\n",
    "for i in my_generator():\n",
    "    print(i)\n",
    "    \n",
    "#  Code will just output first checking point because thier is return which break the code to end of loop/iteration    "
   ]
  },
  {
   "cell_type": "code",
   "execution_count": null,
   "metadata": {},
   "outputs": [],
   "source": [
    "# Power OF 2 through generator/iterator\n",
    "\n",
    "mylist= [2,4,5,6,7,8,10]\n",
    "\n",
    "list_ = [ x **2 for x in mylist]\n",
    "print(list_)\n",
    "\n",
    "generator = (x **2 for x in mylist)\n",
    "for i in generator:\n",
    "    print(i)\n",
    "    "
   ]
  },
  {
   "cell_type": "code",
   "execution_count": null,
   "metadata": {},
   "outputs": [],
   "source": []
  }
 ],
 "metadata": {
  "kernelspec": {
   "display_name": "Python 3",
   "language": "python",
   "name": "python3"
  },
  "language_info": {
   "codemirror_mode": {
    "name": "ipython",
    "version": 3
   },
   "file_extension": ".py",
   "mimetype": "text/x-python",
   "name": "python",
   "nbconvert_exporter": "python",
   "pygments_lexer": "ipython3",
   "version": "3.11.3"
  },
  "orig_nbformat": 4
 },
 "nbformat": 4,
 "nbformat_minor": 2
}
