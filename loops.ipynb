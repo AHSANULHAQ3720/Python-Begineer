{
 "cells": [
  {
   "cell_type": "code",
   "execution_count": 10,
   "metadata": {},
   "outputs": [
    {
     "name": "stdout",
     "output_type": "stream",
     "text": [
      "Keep Working you have to pay $234.75\n"
     ]
    }
   ],
   "source": [
    "# If Else Construct Loop\n",
    "total = int(input(\"Enter Amount of Items:\"))\n",
    "state = input(\"Enter USA State Name:\")\n",
    "\n",
    "if state==\"Texas\":\n",
    "    if total > 15000:\n",
    "        tax = total * 35/100\n",
    "        print(f\"Amazing Opportunity you are working You have to pay ${tax:.2f}\")\n",
    "    elif total > 10000 & total <= 15000:   \n",
    "         tax = total * 15/100\n",
    "         print(f\"Keep Working you have to pay ${tax:.2f}\")\n",
    "    else:\n",
    "        tax = total * 5/100\n",
    "        print(f\"Keep Working you have to pay ${tax:.2f}\")\n",
    "else:\n",
    "    print(\"No Tax apply on you\")            "
   ]
  },
  {
   "cell_type": "code",
   "execution_count": 26,
   "metadata": {},
   "outputs": [
    {
     "name": "stdout",
     "output_type": "stream",
     "text": [
      "The value of unit is $15000.000\n",
      "The value of unit is $     15000\n",
      "The value of unit is $0000015000\n",
      "The value of unit with left indent is: $15000     \n",
      "The value of unit with right indent is: $     15000\n",
      "The value of unit with center align is: $  15000   \n",
      "The value of unit with comma formatted is: $15,000\n"
     ]
    }
   ],
   "source": [
    "a = 15000\n",
    "# Print the element with 10 spaces\n",
    "print(f\"The value of unit is ${a:.3f}\")\n",
    "print(f\"The value of unit is ${a:10}\")   # To Add 10 spaces\n",
    "print(f\"The value of unit is ${a:010}\")  # To Add the value with 0 for all\n",
    "print(f\"The value of unit with left indent is: ${a:<10}\")  # The value of a with left indent is\n",
    "print(f\"The value of unit with right indent is: ${a:>10}\")  # The value of a with right indent is\n",
    "print(f\"The value of unit with center align is: ${a:^10}\")  # The value of a with right indent is\n",
    "print(f\"The value of unit with comma formatted is: ${a:,}\")  # The value of a with comma formatted is\n"
   ]
  },
  {
   "cell_type": "code",
   "execution_count": null,
   "metadata": {},
   "outputs": [],
   "source": []
  }
 ],
 "metadata": {
  "kernelspec": {
   "display_name": "Python 3",
   "language": "python",
   "name": "python3"
  },
  "language_info": {
   "codemirror_mode": {
    "name": "ipython",
    "version": 3
   },
   "file_extension": ".py",
   "mimetype": "text/x-python",
   "name": "python",
   "nbconvert_exporter": "python",
   "pygments_lexer": "ipython3",
   "version": "3.11.3"
  },
  "orig_nbformat": 4
 },
 "nbformat": 4,
 "nbformat_minor": 2
}
