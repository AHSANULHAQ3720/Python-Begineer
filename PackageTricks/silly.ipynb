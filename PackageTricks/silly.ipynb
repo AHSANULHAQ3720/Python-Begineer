{
 "cells": [
  {
   "cell_type": "code",
   "execution_count": 1,
   "id": "2c8ee770",
   "metadata": {},
   "outputs": [],
   "source": [
    "# Import Silly as Package to generate random text for his model\n",
    "import silly"
   ]
  },
  {
   "cell_type": "code",
   "execution_count": 6,
   "id": "34d58121",
   "metadata": {},
   "outputs": [],
   "source": [
    "# To Get Name\n",
    "names = silly.name()"
   ]
  },
  {
   "cell_type": "code",
   "execution_count": 27,
   "id": "b55bed38",
   "metadata": {},
   "outputs": [],
   "source": [
    "# To Get Email\n",
    "email = silly.email()"
   ]
  },
  {
   "cell_type": "code",
   "execution_count": 8,
   "id": "84e25628",
   "metadata": {},
   "outputs": [],
   "source": [
    "# To Get Gender\n",
    "gender = silly.gender()"
   ]
  },
  {
   "cell_type": "code",
   "execution_count": 9,
   "id": "78df92a6",
   "metadata": {},
   "outputs": [],
   "source": [
    "# TO GET ADDRESS\n",
    "address = silly.address()"
   ]
  },
  {
   "cell_type": "code",
   "execution_count": 10,
   "id": "3c06c8fc",
   "metadata": {},
   "outputs": [],
   "source": [
    "# TO GET COMPANY\n",
    "company = silly.company()"
   ]
  },
  {
   "cell_type": "code",
   "execution_count": 11,
   "id": "6ebf2fe0",
   "metadata": {},
   "outputs": [],
   "source": [
    "# TO GET COUNTRY\n",
    "country = silly.country()"
   ]
  },
  {
   "cell_type": "code",
   "execution_count": 12,
   "id": "1d71386b",
   "metadata": {},
   "outputs": [],
   "source": [
    "# TO GET DOMAIN\n",
    "domain = silly.domain()"
   ]
  },
  {
   "cell_type": "code",
   "execution_count": 14,
   "id": "9e13ee4a",
   "metadata": {},
   "outputs": [],
   "source": [
    "# TO GET PHONE NUMBER\n",
    "phone = silly.phone_number()"
   ]
  },
  {
   "cell_type": "code",
   "execution_count": 38,
   "id": "9749f05f",
   "metadata": {},
   "outputs": [],
   "source": [
    "namess = list(set([silly.name() for i in range(0,100)]))\n",
    "genders = list(set([silly.gender() for i in range(0,100)]))\n",
    "emails = list(set([silly.email() for i in range(0,100)]))\n",
    "addresss = list(set([silly.address() for i in range(0,100)]))\n",
    "domains = list(set([silly.domain() for i in range(0,100)]))\n",
    "countrys = list(set([silly.country() for i in range(0,100)]))\n",
    "phones = list(set([silly.phone_number() for i in range(0,100)]))\n",
    "\n",
    "df = pd.DataFrame(list(zip(namess,genders,emails,addresss,domains,countrys,phones)),\n",
    "                   columns = [\"Name\",\"Gender\",\"Email\",\"Address\",\"Domain\",\"Country\",\"Phone\"])\n",
    "df.to_csv(r'D:\\Github Repo\\Pythontutorial\\PackageTricks\\export_dataframe.csv', index=False, header=True)\n",
    "\n",
    "                   "
   ]
  }
 ],
 "metadata": {
  "kernelspec": {
   "display_name": "Python 3 (ipykernel)",
   "language": "python",
   "name": "python3"
  },
  "language_info": {
   "codemirror_mode": {
    "name": "ipython",
    "version": 3
   },
   "file_extension": ".py",
   "mimetype": "text/x-python",
   "name": "python",
   "nbconvert_exporter": "python",
   "pygments_lexer": "ipython3",
   "version": "3.11.3"
  }
 },
 "nbformat": 4,
 "nbformat_minor": 5
}
