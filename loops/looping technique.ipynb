{
 "cells": [
  {
   "cell_type": "code",
   "execution_count": null,
   "metadata": {},
   "outputs": [],
   "source": [
    "# Print Sorted Loop Value with Index \n",
    "vals = [2,5,7,9,1,4,6,8,14,50,34,85]\n",
    "for idx,i in enumerate(sorted(vals)):\n",
    "    print(idx,i)"
   ]
  },
  {
   "cell_type": "code",
   "execution_count": null,
   "metadata": {},
   "outputs": [],
   "source": [
    "# Print Sorted Loop Value with Index in decending order\n",
    "vals = [2,5,7,9,1,4,6,8,14,50,34,85]\n",
    "for idx,i in enumerate(sorted(vals,reverse=True)):\n",
    "    print(idx,i)"
   ]
  },
  {
   "cell_type": "code",
   "execution_count": null,
   "metadata": {},
   "outputs": [],
   "source": [
    "# Print sorted string list with index\n",
    "playername = ['Salah','Messi','Ronaldo','Ronaldinhio','Coby','Zeedan']\n",
    "for idx,i in enumerate(sorted(playername)):\n",
    "    print(idx,i)"
   ]
  },
  {
   "cell_type": "code",
   "execution_count": null,
   "metadata": {},
   "outputs": [],
   "source": [
    "# Print Dictionary Element based on keys in Sorted Order\n",
    "vals = {'a':2,'b':5,'c':8,'d':1}\n",
    "for i in sorted(vals.items()):\n",
    "    print(i)"
   ]
  },
  {
   "cell_type": "code",
   "execution_count": null,
   "metadata": {},
   "outputs": [],
   "source": [
    "# Print Dictionary Element based on values in Sorted Order\n",
    "vals = {'a':2,'b':5,'c':8,'d':1}\n",
    "for i in sorted(vals.values()):\n",
    "    print(i)"
   ]
  },
  {
   "cell_type": "code",
   "execution_count": null,
   "metadata": {},
   "outputs": [],
   "source": [
    "# Print sorted string list with index in reverse order\n",
    "playername = ['Salah','Messi','Ronaldo','Ronaldinhio','Coby','Zeedan']\n",
    "for idx,i in enumerate(sorted(playername,reverse=True)):\n",
    "    print(idx,i)"
   ]
  },
  {
   "cell_type": "code",
   "execution_count": null,
   "metadata": {},
   "outputs": [],
   "source": [
    "# Filter the result with help of lambda\n",
    "animals = [{'name':'lion','age':30},{'name':'dog','age':11},{'name':'beer','age':33},{'name':'zebra','age':12}]\n",
    "\n",
    "for i in filter(lambda i: i[\"age\"] %2 ==1,animals):\n",
    "    print(i)"
   ]
  },
  {
   "cell_type": "code",
   "execution_count": null,
   "metadata": {},
   "outputs": [],
   "source": [
    "# Popping Element from List using while loop from the end\n",
    "country = ['India','pakistan','australia','canada','japan','uk','mexico','israel']\n",
    "while country:\n",
    "    print(\"Popping Country:\",country.pop(-1))\n",
    "\n",
    "else:\n",
    "    print(\"all country popped\")    "
   ]
  },
  {
   "cell_type": "code",
   "execution_count": null,
   "metadata": {},
   "outputs": [],
   "source": [
    "for i in enumerate(['The','comb','is','in','pocket']):\n",
    "    print(i)"
   ]
  },
  {
   "cell_type": "code",
   "execution_count": null,
   "metadata": {},
   "outputs": [],
   "source": [
    "# Enumerate without tuple result\n",
    "for idx,i in enumerate(['The','comb','is','in','pocket']):\n",
    "    print(idx,i)"
   ]
  },
  {
   "cell_type": "code",
   "execution_count": null,
   "metadata": {},
   "outputs": [],
   "source": [
    "# Enumerate with tuple result and with custom index number\n",
    "for idx,i in enumerate(['The','comb','is','in','pocket'],start=10):\n",
    "    print(idx,i)"
   ]
  },
  {
   "cell_type": "code",
   "execution_count": null,
   "metadata": {},
   "outputs": [],
   "source": [
    "# How to iterate 2 or more list at  a time with zip function\n",
    "playerfirstname = ['Lionel','Christiano','Zeeden','Robero']\n",
    "playerlastname = ['Messi','Ronaldo','Zeedan','Carlos']\n",
    "age = [25,28,29,45]\n",
    "\n",
    "for i in zip(playerfirstname,playerlastname,age):\n",
    "    print(i) "
   ]
  },
  {
   "cell_type": "code",
   "execution_count": null,
   "metadata": {},
   "outputs": [],
   "source": [
    "# How to use Itertool package  with custom fill value\n",
    "from itertools import zip_longest\n",
    "\n",
    "playerfirstname = ['Lionel','Christiano','Zeeden','Robero','Lionel','Christiano','Zeeden','Robero']\n",
    "playerlastname = ['Messi','Ronaldo','Zeedan','Carlos']\n",
    "\n",
    "for i in zip_longest(playerfirstname,playerlastname,fillvalue='NA'):\n",
    "    print(i)"
   ]
  }
 ],
 "metadata": {
  "kernelspec": {
   "display_name": "Python 3",
   "language": "python",
   "name": "python3"
  },
  "language_info": {
   "codemirror_mode": {
    "name": "ipython",
    "version": 3
   },
   "file_extension": ".py",
   "mimetype": "text/x-python",
   "name": "python",
   "nbconvert_exporter": "python",
   "pygments_lexer": "ipython3",
   "version": "3.11.3"
  },
  "orig_nbformat": 4
 },
 "nbformat": 4,
 "nbformat_minor": 2
}
