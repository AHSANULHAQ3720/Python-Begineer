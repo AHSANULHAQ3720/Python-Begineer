{
 "cells": [
  {
   "cell_type": "code",
   "execution_count": null,
   "metadata": {},
   "outputs": [],
   "source": [
    "strp = \"Simplilearn\"\n",
    "for i in strp:\n",
    "    print(i)"
   ]
  },
  {
   "cell_type": "code",
   "execution_count": null,
   "metadata": {},
   "outputs": [],
   "source": [
    "#  To Print everything in one line\n",
    "strp = \"Simplilearn\"\n",
    "for i in strp:\n",
    "    print(i,end=\"\")"
   ]
  },
  {
   "cell_type": "code",
   "execution_count": null,
   "metadata": {},
   "outputs": [],
   "source": [
    "# Top Programming Language with index value increment by 1\n",
    "print(\"Top Programming Language in one Line\")\n",
    "langs = [\"Python\",\"Java\",\"Scala\",\"Php\"]\n",
    "for idx,i in enumerate(langs):\n",
    "    print(idx + 1,i, end=\"|\")"
   ]
  },
  {
   "cell_type": "code",
   "execution_count": null,
   "metadata": {},
   "outputs": [],
   "source": [
    "#  Sum of all List Number\n",
    "vals = [20,25,14,36,78,65,14,79,45]\n",
    "sum = 0\n",
    "for i in vals:\n",
    "    sum += i\n",
    "\n",
    "print(\"The Sum of marks is :\",sum)\n",
    "print(f\"The average of marks is:{sum/len(vals):.2f}\")"
   ]
  },
  {
   "cell_type": "code",
   "execution_count": null,
   "metadata": {},
   "outputs": [],
   "source": [
    "for i in range(0,10,2):\n",
    "    print(i)"
   ]
  },
  {
   "cell_type": "code",
   "execution_count": null,
   "metadata": {},
   "outputs": [],
   "source": [
    "# Table Generation\n",
    "n = int(input(\"Enter number that you want to generate the table:\"))\n",
    "for i in range(1,11):\n",
    "    print(\"{} * {} = {}\".format(n,i,n * i))"
   ]
  },
  {
   "cell_type": "code",
   "execution_count": null,
   "metadata": {},
   "outputs": [],
   "source": [
    "# Printing Letter in a list word\n",
    "techcompany = [\"Apple\",\"Google\",\"Microsoft\",\"Amazon\",\"Flipkart\"]\n",
    "for i in techcompany:\n",
    "    print(\"Breaking Tech company name into letter currently on :\",i)\n",
    "    for letter in i:\n",
    "        print(letter,end=\" \")\n",
    "    print(\"\\n\")    "
   ]
  },
  {
   "cell_type": "code",
   "execution_count": null,
   "metadata": {},
   "outputs": [],
   "source": [
    "# Cube of  a number\n",
    "vals = [2,5,7,8,12,15,18]\n",
    "cube = []\n",
    "for i in vals:\n",
    "    cube.append(i**3)\n",
    "    print(cube)"
   ]
  },
  {
   "cell_type": "code",
   "execution_count": null,
   "metadata": {},
   "outputs": [],
   "source": []
  }
 ],
 "metadata": {
  "kernelspec": {
   "display_name": "Python 3",
   "language": "python",
   "name": "python3"
  },
  "language_info": {
   "codemirror_mode": {
    "name": "ipython",
    "version": 3
   },
   "file_extension": ".py",
   "mimetype": "text/x-python",
   "name": "python",
   "nbconvert_exporter": "python",
   "pygments_lexer": "ipython3",
   "version": "3.11.3"
  },
  "orig_nbformat": 4
 },
 "nbformat": 4,
 "nbformat_minor": 2
}
