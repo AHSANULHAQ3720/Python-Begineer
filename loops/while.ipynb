{
 "cells": [
  {
   "cell_type": "code",
   "execution_count": null,
   "metadata": {},
   "outputs": [],
   "source": [
    "#  While Loop Printing First star patterm\n",
    "i = 1\n",
    "n = int(input(\"Enter Number of rows you want to generte:\"))\n",
    "while i <= n:\n",
    "    j = 1\n",
    "    while j <= i:\n",
    "        print(\"*\",end=\"\")\n",
    "        j  = j + 1\n",
    "    print()\n",
    "    i += 1    "
   ]
  },
  {
   "cell_type": "code",
   "execution_count": null,
   "metadata": {},
   "outputs": [],
   "source": [
    "#  While Loop Printing Second star patterm\n",
    "i = 1\n",
    "n = int(input(\"Enter Number of rows you want to generte:\"))\n",
    "while i <= n:\n",
    "    j = n\n",
    "    while j >= i:\n",
    "        print(\"*\",end=\"\")\n",
    "        j  = j - 1\n",
    "    print()\n",
    "    i += 1    "
   ]
  },
  {
   "cell_type": "code",
   "execution_count": null,
   "metadata": {},
   "outputs": [],
   "source": [
    "import random as random\n",
    "possibleoutput = [\"true\",\"false\",\"yes\",\"no\"]\n",
    "n = int(input(\"Enter how much time you want to run the model:\"))\n",
    "\n",
    "count = 0\n",
    "while count <= n:\n",
    "    print(\"The value of result is:\",random.choice(possibleoutput))\n",
    "    count += 1\n",
    "\n",
    "print(\"Ending construct\")"
   ]
  },
  {
   "cell_type": "code",
   "execution_count": null,
   "metadata": {},
   "outputs": [],
   "source": [
    "student=[]\n",
    "while True:\n",
    "    print(\"Enter the student name:\")\n",
    "    name = input()\n",
    "    if name == \"gilly\":\n",
    "        break\n",
    "    else:\n",
    "        student.append(name)\n",
    "\n",
    "print(\"End of Loop\")\n",
    "print(\"Total Student Entered\",len(student))\n",
    "print(student)\n"
   ]
  },
  {
   "cell_type": "code",
   "execution_count": null,
   "metadata": {},
   "outputs": [],
   "source": [
    "# LCM Finder\n",
    "x = 0\n",
    "while True:\n",
    "    x += 1\n",
    "    if not(x % 4 or x %9):\n",
    "        break\n",
    "print(x , \"is divisble by both 4 and 8\")    "
   ]
  },
  {
   "cell_type": "code",
   "execution_count": null,
   "metadata": {},
   "outputs": [],
   "source": [
    "# Continue\n",
    "i = 0\n",
    "while i <=10:\n",
    "    i += 1\n",
    "    if i == 6:\n",
    "        print(\"6 found\")\n",
    "        continue\n",
    "    else:\n",
    "        print(i)      \n",
    "  "
   ]
  },
  {
   "cell_type": "code",
   "execution_count": null,
   "metadata": {},
   "outputs": [],
   "source": [
    "# popping element from the list\n",
    "a = [1,2,3,4,5,6,7,8,9,10]\n",
    "while a:\n",
    "    print(\"Popping Element:\",a.pop())\n",
    "else:\n",
    "    print(\"No Element left for popping\")    "
   ]
  },
  {
   "cell_type": "code",
   "execution_count": 8,
   "metadata": {},
   "outputs": [
    {
     "name": "stdout",
     "output_type": "stream",
     "text": [
      "The sum of positive number is : 55\n",
      "Total Positive number added in stack is : 10\n",
      "The Average of Pass Test is: 5.5\n"
     ]
    }
   ],
   "source": [
    "# Average of Positive Number\n",
    "num =0\n",
    "count = 0\n",
    "sum = 0\n",
    "while num >=0:\n",
    "    num = int(input(\"Enter the number greater than zero:\"))\n",
    "    if num >=0:\n",
    "        count += 1\n",
    "        sum += num\n",
    "    else:\n",
    "        break\n",
    "\n",
    "print(\"The sum of positive number is :\",sum) \n",
    "print(\"Total Positive number added in stack is :\",count)\n",
    "print(f\"The Average of Pass Test is:\",sum/count)       \n"
   ]
  }
 ],
 "metadata": {
  "kernelspec": {
   "display_name": "Python 3",
   "language": "python",
   "name": "python3"
  },
  "language_info": {
   "codemirror_mode": {
    "name": "ipython",
    "version": 3
   },
   "file_extension": ".py",
   "mimetype": "text/x-python",
   "name": "python",
   "nbconvert_exporter": "python",
   "pygments_lexer": "ipython3",
   "version": "3.11.3"
  },
  "orig_nbformat": 4
 },
 "nbformat": 4,
 "nbformat_minor": 2
}
